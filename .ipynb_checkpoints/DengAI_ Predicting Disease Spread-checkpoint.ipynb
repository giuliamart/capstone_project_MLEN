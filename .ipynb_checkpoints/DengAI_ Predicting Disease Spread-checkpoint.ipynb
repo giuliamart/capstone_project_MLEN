{
 "cells": [
  {
   "cell_type": "markdown",
   "metadata": {
    "colab_type": "text",
    "id": "5qoKAMpR5PaC"
   },
   "source": [
    "# Predicting Dengue Disease Spread\n",
    "## Capstone Project - Machine Learning Engineer Nanodegree\n",
    "### Giulia Martielli\n",
    "\n",
    "A competition held by DrivenData.org:\n",
    "https://www.drivendata.org/competitions/44/dengai-predicting-disease-spread/"
   ]
  },
  {
   "cell_type": "markdown",
   "metadata": {
    "colab_type": "text",
    "id": "POXlTc7MZVjZ"
   },
   "source": [
    "<img src=\"https://images.unsplash.com/photo-1572262086204-3909bfc93ea0?ixlib=rb-1.2.1&ixid=MXwxMjA3fDB8MHxwaG90by1wYWdlfHx8fGVufDB8fHw%3D&auto=format&fit=crop&w=751&q=80\" alt=\"Drawing\" style=\"width: 2000px;height: 600px\"/>"
   ]
  },
  {
   "cell_type": "markdown",
   "metadata": {},
   "source": [
    "### Problem Statement\n",
    "\n",
    "Dengue Fever (**DF**) is a systemic and dynamic infection with a broad clinical spectrum that includes both serious and non-serious clinical manifestations is carried by mosquitos. Its transmission is higly correlated with climate variables, especially temperature and precipitation / humidity. The task of the competition is to predict the number of dengue cases each week (in each of the two locations – San Juan and Iquitos) based on all the environmental variables provided (temperature, precipitation, vegetation, and more).<br>\n",
    "From a technical point of view, the goal is to predict the `total_cases label` for each triplet (`city`, `year`, `weekofyear`) in the test set."
   ]
  },
  {
   "cell_type": "markdown",
   "metadata": {},
   "source": [
    "### Datasets and Inputs\n",
    "\n",
    "The data for this project are downloaded directly from DrivenData.org (https://www.drivendata.org/competitions/44/dengai-predicting-disease-spread/page/81/). In addition to the number of cases in the two locations, the data include, as previously mentioned, information on temperature, precipitation, humidity, vegetation, and what time of the year the data was obtained. Below a detailed list and description of datasets provided and features - the provided set of information are on a (`year, weekofyear`) timescale, where appropriate, units are provided as a `_unit` suffix on the feature name).<br>\n",
    "\n",
    "\n",
    "#### Datasets\n",
    "* `dengue_labels_train.csv` (1,457 rows) containing four columns being city (`sj` for San Juan and `iq` for Iquitos), year (ranging from 1990 to 2008 for San Juan and from 2000 to 2010 for Iquitos), `weekofyear` (ranging from 1 to 53) and `total_cases` (the number of cases/week for each city)\n",
    "* `dengue_features_train.csv` (1,457 rows) containing data for both San Juan (years ranging from 1990 to 2008) and Iquitos (years ranging from 2000 to 2010), plus all the relevant features, for a total of 24 columns\n",
    "* `dengue_features_test.csv` (417 rows) containing data for both San Juan (years ranging from 2008 to 2013) and Iquitos (years ranging from 2010 to 2013), plus all the relevant features, for a total of 24 columns; as reported on the DrivenData.org website, “the test set is a pure future hold-out, meaning the test data are sequential and non-overlapping with any of the training data\"\n",
    "\n",
    "#### Features\n",
    "\n",
    "***City and date indicators***\n",
    "*   `city` – City abbreviations: sj for San Juan and iq for Iquitos\n",
    "*   `week_start_date` – Date given in yyyy-mm-dd format\n",
    "\n",
    "***NOAA's GHCN daily climate data weather station measurements***\n",
    "•\tstation_max_temp_c – Maximum temperature\n",
    "\n",
    "*   `station_min_temp_c` – Minimum temperature\n",
    "*   `station_avg_temp_c` – Average temperature\n",
    "*\t  `station_precip_mm` – Total precipitation\n",
    "*\t  `station_diur_temp_rng_c` – Diurnal temperature range\n",
    "\n",
    "\n",
    "***PERSIANN satellite precipitation measurements (0.25x0.25 degree scale)***\n",
    "*   `precipitation_amt_mm` – Total precipitation\n",
    "\n",
    "\n",
    "***NOAA's NCEP Climate Forecast System Reanalysis measurements (0.5x0.5 degree scale)***\n",
    "*   `reanalysis_sat_precip_amt_mm` – Total precipitation\n",
    "*   `reanalysis_dew_point_temp_k` – Mean dew point temperature\n",
    "*   `reanalysis_air_temp_k` – Mean air temperature\n",
    "*   `reanalysis_relative_humidity_percent` – Mean relative humidity\n",
    "*   `reanalysis_specific_humidity_g_per_kg` – Mean specific humidity\n",
    "*   `reanalysis_precip_amt_kg_per_m2` – Total precipitation\n",
    "*   `reanalysis_max_air_temp_k `– Maximum air temperature\n",
    "*   `reanalysis_min_air_temp_k` – Minimum air temperature\n",
    "*   `reanalysis_avg_temp_k` – Average air temperature\n",
    "*   `reanalysis_tdtr_k` – Diurnal temperature range\n",
    "\n",
    "\n",
    "***Satellite vegetation - Normalized difference vegetation index (NDVI) - NOAA's CDR Normalized Difference Vegetation Index (0.5x0.5 degree scale) measurements***\n",
    "*   `ndvi_se` – Pixel southeast of city centroid\n",
    "*   `ndvi_sw` – Pixel southwest of city centroid\n",
    "*   `ndvi_ne` – Pixel northeast of city centroid\n",
    "*   `ndvi_nw` – Pixel northwest of city centroid\n"
   ]
  },
  {
   "cell_type": "markdown",
   "metadata": {
    "colab_type": "text",
    "id": "nzkpuMhC7NFs"
   },
   "source": [
    "### Evaluation Metrics\n",
    "The evaluation metric suggested for the DrivenData.org competition is the _**M**ean **A**bsolute **E**rror_ (**MAE**), which is a model evaluation metric usually used with regression models."
   ]
  },
  {
   "cell_type": "markdown",
   "metadata": {
    "colab_type": "text",
    "id": "j6datjkeZeSm"
   },
   "source": [
    "<h1> Analysis </h1>"
   ]
  },
  {
   "cell_type": "markdown",
   "metadata": {},
   "source": [
    "## Upload data and libraries"
   ]
  },
  {
   "cell_type": "markdown",
   "metadata": {
    "colab_type": "text",
    "id": "BJRKRsBvFQb8"
   },
   "source": [
    "Importing data and all needed libraries"
   ]
  },
  {
   "cell_type": "code",
   "execution_count": null,
   "metadata": {
    "colab": {
     "base_uri": "https://localhost:8080/",
     "height": 141
    },
    "colab_type": "code",
    "executionInfo": {
     "elapsed": 10713,
     "status": "ok",
     "timestamp": 1580227725961,
     "user": {
      "displayName": "Giulia Martielli",
      "photoUrl": "",
      "userId": "14894051544252230101"
     },
     "user_tz": -60
    },
    "id": "FZmvtjjdDWuR",
    "outputId": "4c9b2487-8aac-434e-d422-ce39775f1553"
   },
   "outputs": [
    {
     "name": "stdout",
     "output_type": "stream",
     "text": [
      "\u001b[33mDEPRECATION: Python 2.7 reached the end of its life on January 1st, 2020. Please upgrade your Python as Python 2.7 is no longer maintained. pip 21.0 will drop support for Python 2.7 in January 2021. More details about Python 2 support in pip can be found at https://pip.pypa.io/en/latest/development/release-process/#python-2-support pip 21.0 will remove support for this functionality.\u001b[0m\n",
      "Requirement already satisfied: xgboost in /home/ec2-user/anaconda3/envs/amazonei_mxnet_p27/lib/python2.7/site-packages (0.82)\n",
      "Requirement already satisfied: scipy in /home/ec2-user/anaconda3/envs/amazonei_mxnet_p27/lib/python2.7/site-packages (from xgboost) (1.2.2)\n",
      "Requirement already satisfied: numpy in /home/ec2-user/anaconda3/envs/amazonei_mxnet_p27/lib/python2.7/site-packages (from xgboost) (1.16.5)\n",
      "('xgboost', '0.82')\n",
      "\u001b[33mDEPRECATION: Python 2.7 reached the end of its life on January 1st, 2020. Please upgrade your Python as Python 2.7 is no longer maintained. pip 21.0 will drop support for Python 2.7 in January 2021. More details about Python 2 support in pip can be found at https://pip.pypa.io/en/latest/development/release-process/#python-2-support pip 21.0 will remove support for this functionality.\u001b[0m\n",
      "Requirement already satisfied: tensorflow in /home/ec2-user/anaconda3/envs/amazonei_mxnet_p27/lib/python2.7/site-packages (2.1.0)\n",
      "Requirement already satisfied: protobuf>=3.8.0 in /home/ec2-user/anaconda3/envs/amazonei_mxnet_p27/lib/python2.7/site-packages (from tensorflow) (3.11.2)\n",
      "Requirement already satisfied: absl-py>=0.7.0 in /home/ec2-user/anaconda3/envs/amazonei_mxnet_p27/lib/python2.7/site-packages (from tensorflow) (0.12.0)\n",
      "Requirement already satisfied: grpcio>=1.8.6 in /home/ec2-user/anaconda3/envs/amazonei_mxnet_p27/lib/python2.7/site-packages (from tensorflow) (1.36.1)\n",
      "Requirement already satisfied: six>=1.12.0 in /home/ec2-user/anaconda3/envs/amazonei_mxnet_p27/lib/python2.7/site-packages (from tensorflow) (1.12.0)\n",
      "Requirement already satisfied: backports.weakref>=1.0rc1; python_version < \"3.4\" in /home/ec2-user/anaconda3/envs/amazonei_mxnet_p27/lib/python2.7/site-packages (from tensorflow) (1.0.post1)\n",
      "Requirement already satisfied: tensorflow-estimator<2.2.0,>=2.1.0rc0 in /home/ec2-user/anaconda3/envs/amazonei_mxnet_p27/lib/python2.7/site-packages (from tensorflow) (2.1.0)\n",
      "Requirement already satisfied: astor>=0.6.0 in /home/ec2-user/anaconda3/envs/amazonei_mxnet_p27/lib/python2.7/site-packages (from tensorflow) (0.8.1)\n",
      "Requirement already satisfied: wrapt>=1.11.1 in /home/ec2-user/anaconda3/envs/amazonei_mxnet_p27/lib/python2.7/site-packages (from tensorflow) (1.11.2)\n",
      "Requirement already satisfied: keras-applications>=1.0.8 in /home/ec2-user/anaconda3/envs/amazonei_mxnet_p27/lib/python2.7/site-packages (from tensorflow) (1.0.8)\n",
      "Requirement already satisfied: numpy<2.0,>=1.16.0 in /home/ec2-user/anaconda3/envs/amazonei_mxnet_p27/lib/python2.7/site-packages (from tensorflow) (1.16.5)\n",
      "Requirement already satisfied: opt-einsum>=2.3.2 in /home/ec2-user/anaconda3/envs/amazonei_mxnet_p27/lib/python2.7/site-packages (from tensorflow) (2.3.2)\n",
      "Requirement already satisfied: google-pasta>=0.1.6 in /home/ec2-user/anaconda3/envs/amazonei_mxnet_p27/lib/python2.7/site-packages (from tensorflow) (0.2.0)\n",
      "Requirement already satisfied: wheel; python_version < \"3\" in /home/ec2-user/anaconda3/envs/amazonei_mxnet_p27/lib/python2.7/site-packages (from tensorflow) (0.33.6)\n",
      "Requirement already satisfied: keras-preprocessing>=1.1.0 in /home/ec2-user/anaconda3/envs/amazonei_mxnet_p27/lib/python2.7/site-packages (from tensorflow) (1.1.2)\n",
      "Requirement already satisfied: mock>=2.0.0; python_version < \"3\" in /home/ec2-user/anaconda3/envs/amazonei_mxnet_p27/lib/python2.7/site-packages (from tensorflow) (3.0.5)\n",
      "Requirement already satisfied: functools32>=3.2.3; python_version < \"3\" in /home/ec2-user/anaconda3/envs/amazonei_mxnet_p27/lib/python2.7/site-packages (from tensorflow) (3.2.3.post2)\n",
      "Requirement already satisfied: gast==0.2.2 in /home/ec2-user/anaconda3/envs/amazonei_mxnet_p27/lib/python2.7/site-packages (from tensorflow) (0.2.2)\n",
      "Requirement already satisfied: tensorboard<2.2.0,>=2.1.0 in /home/ec2-user/anaconda3/envs/amazonei_mxnet_p27/lib/python2.7/site-packages (from tensorflow) (2.1.0)\n",
      "Requirement already satisfied: termcolor>=1.1.0 in /home/ec2-user/anaconda3/envs/amazonei_mxnet_p27/lib/python2.7/site-packages (from tensorflow) (1.1.0)\n",
      "Requirement already satisfied: scipy==1.2.2; python_version < \"3\" in /home/ec2-user/anaconda3/envs/amazonei_mxnet_p27/lib/python2.7/site-packages (from tensorflow) (1.2.2)\n",
      "Requirement already satisfied: enum34>=1.1.6; python_version < \"3.4\" in /home/ec2-user/anaconda3/envs/amazonei_mxnet_p27/lib/python2.7/site-packages (from tensorflow) (1.1.6)\n",
      "Requirement already satisfied: setuptools in /home/ec2-user/anaconda3/envs/amazonei_mxnet_p27/lib/python2.7/site-packages (from protobuf>=3.8.0->tensorflow) (41.4.0)\n",
      "Requirement already satisfied: futures>=2.2.0; python_version < \"3.2\" in /home/ec2-user/anaconda3/envs/amazonei_mxnet_p27/lib/python2.7/site-packages (from grpcio>=1.8.6->tensorflow) (3.3.0)\n",
      "Requirement already satisfied: h5py in /home/ec2-user/anaconda3/envs/amazonei_mxnet_p27/lib/python2.7/site-packages (from keras-applications>=1.0.8->tensorflow) (2.9.0)\n",
      "Requirement already satisfied: funcsigs>=1; python_version < \"3.3\" in /home/ec2-user/anaconda3/envs/amazonei_mxnet_p27/lib/python2.7/site-packages (from mock>=2.0.0; python_version < \"3\"->tensorflow) (1.0.2)\n",
      "Requirement already satisfied: google-auth<2,>=1.6.3 in /home/ec2-user/anaconda3/envs/amazonei_mxnet_p27/lib/python2.7/site-packages (from tensorboard<2.2.0,>=2.1.0->tensorflow) (1.27.1)\n",
      "Requirement already satisfied: google-auth-oauthlib<0.5,>=0.4.1 in /home/ec2-user/anaconda3/envs/amazonei_mxnet_p27/lib/python2.7/site-packages (from tensorboard<2.2.0,>=2.1.0->tensorflow) (0.4.1)\n",
      "Requirement already satisfied: requests<3,>=2.21.0 in /home/ec2-user/anaconda3/envs/amazonei_mxnet_p27/lib/python2.7/site-packages (from tensorboard<2.2.0,>=2.1.0->tensorflow) (2.22.0)\n",
      "Requirement already satisfied: markdown>=2.6.8 in /home/ec2-user/anaconda3/envs/amazonei_mxnet_p27/lib/python2.7/site-packages (from tensorboard<2.2.0,>=2.1.0->tensorflow) (3.1.1)\n",
      "Requirement already satisfied: werkzeug>=0.11.15 in /home/ec2-user/anaconda3/envs/amazonei_mxnet_p27/lib/python2.7/site-packages (from tensorboard<2.2.0,>=2.1.0->tensorflow) (0.16.0)\n",
      "Requirement already satisfied: rsa<4.6; python_version < \"3.6\" in /home/ec2-user/anaconda3/envs/amazonei_mxnet_p27/lib/python2.7/site-packages (from google-auth<2,>=1.6.3->tensorboard<2.2.0,>=2.1.0->tensorflow) (4.5)\n",
      "Requirement already satisfied: cachetools<5.0,>=2.0.0 in /home/ec2-user/anaconda3/envs/amazonei_mxnet_p27/lib/python2.7/site-packages (from google-auth<2,>=1.6.3->tensorboard<2.2.0,>=2.1.0->tensorflow) (3.1.1)\n",
      "Requirement already satisfied: pyasn1-modules>=0.2.1 in /home/ec2-user/anaconda3/envs/amazonei_mxnet_p27/lib/python2.7/site-packages (from google-auth<2,>=1.6.3->tensorboard<2.2.0,>=2.1.0->tensorflow) (0.2.8)\n",
      "Requirement already satisfied: requests-oauthlib>=0.7.0 in /home/ec2-user/anaconda3/envs/amazonei_mxnet_p27/lib/python2.7/site-packages (from google-auth-oauthlib<0.5,>=0.4.1->tensorboard<2.2.0,>=2.1.0->tensorflow) (1.3.0)\n",
      "Requirement already satisfied: idna<2.9,>=2.5 in /home/ec2-user/anaconda3/envs/amazonei_mxnet_p27/lib/python2.7/site-packages (from requests<3,>=2.21.0->tensorboard<2.2.0,>=2.1.0->tensorflow) (2.8)\n",
      "Requirement already satisfied: urllib3!=1.25.0,!=1.25.1,<1.26,>=1.21.1 in /home/ec2-user/anaconda3/envs/amazonei_mxnet_p27/lib/python2.7/site-packages (from requests<3,>=2.21.0->tensorboard<2.2.0,>=2.1.0->tensorflow) (1.25.11)\n",
      "Requirement already satisfied: chardet<3.1.0,>=3.0.2 in /home/ec2-user/anaconda3/envs/amazonei_mxnet_p27/lib/python2.7/site-packages (from requests<3,>=2.21.0->tensorboard<2.2.0,>=2.1.0->tensorflow) (3.0.4)\n",
      "Requirement already satisfied: certifi>=2017.4.17 in /home/ec2-user/anaconda3/envs/amazonei_mxnet_p27/lib/python2.7/site-packages (from requests<3,>=2.21.0->tensorboard<2.2.0,>=2.1.0->tensorflow) (2019.11.28)\n",
      "Requirement already satisfied: pyasn1>=0.1.3 in /home/ec2-user/anaconda3/envs/amazonei_mxnet_p27/lib/python2.7/site-packages (from rsa<4.6; python_version < \"3.6\"->google-auth<2,>=1.6.3->tensorboard<2.2.0,>=2.1.0->tensorflow) (0.4.8)\n",
      "Requirement already satisfied: oauthlib>=3.0.0 in /home/ec2-user/anaconda3/envs/amazonei_mxnet_p27/lib/python2.7/site-packages (from requests-oauthlib>=0.7.0->google-auth-oauthlib<0.5,>=0.4.1->tensorboard<2.2.0,>=2.1.0->tensorflow) (3.1.0)\n"
     ]
    }
   ],
   "source": [
    "import pandas as pd\n",
    "from pandas.api.types import is_numeric_dtype\n",
    "\n",
    "import numpy as np\n",
    "from numpy import array\n",
    "from math import sqrt\n",
    "\n",
    "from datetime import *\n",
    "\n",
    "import seaborn as sns\n",
    "sns.set_style('darkgrid')\n",
    "\n",
    "import matplotlib.pyplot as plt\n",
    "from matplotlib.pyplot import figure\n",
    "%matplotlib inline\n",
    "\n",
    "from sklearn.metrics import mean_absolute_error\n",
    "from sklearn.model_selection import train_test_split\n",
    "from sklearn.model_selection import cross_val_score, KFold\n",
    "from sklearn.model_selection import GridSearchCV\n",
    "from sklearn import metrics\n",
    "from sklearn.preprocessing import MinMaxScaler\n",
    "\n",
    "# xgboost\n",
    "!pip install xgboost\n",
    "import xgboost as xgb\n",
    "print(\"xgboost\", xgb.__version__)\n",
    "from xgboost import XGBRegressor\n",
    "\n",
    "# LSTM\n",
    "!pip install tensorflow\n",
    "!pip install keras==2.3.1\n",
    "from keras.models import Sequential\n",
    "from keras.layers import Dense\n",
    "from keras.layers import LSTM\n",
    "from keras.layers import Dropout\n",
    "\n",
    "%load_ext autoreload\n",
    "%autoreload 2\n",
    "\n",
    "plt.style.use('bmh')\n",
    "pd.options.display.max_rows = 200"
   ]
  },
  {
   "cell_type": "code",
   "execution_count": null,
   "metadata": {},
   "outputs": [],
   "source": [
    "df_train = pd.read_csv('data/dengue_features_train.csv') \n",
    "df_test = pd.read_csv('data/dengue_features_test.csv') \n",
    "dl_train = pd.read_csv('data/dengue_labels_train.csv',sep=';')"
   ]
  },
  {
   "cell_type": "code",
   "execution_count": null,
   "metadata": {
    "colab": {},
    "colab_type": "code",
    "id": "wpr9GxNvhqZi"
   },
   "outputs": [],
   "source": [
    "df_train=df_train.merge(dl_train,on=['city','year','weekofyear'],how='inner')"
   ]
  },
  {
   "cell_type": "markdown",
   "metadata": {
    "colab_type": "text",
    "id": "ly9AiXoQgs1J"
   },
   "source": [
    "## Exploratory Data Analysis"
   ]
  },
  {
   "cell_type": "markdown",
   "metadata": {},
   "source": [
    "Get a quick introduction of our datasets"
   ]
  },
  {
   "cell_type": "code",
   "execution_count": null,
   "metadata": {},
   "outputs": [],
   "source": [
    "## Train set\n",
    "df_train.dtypes"
   ]
  },
  {
   "cell_type": "code",
   "execution_count": null,
   "metadata": {},
   "outputs": [],
   "source": [
    "## Test set\n",
    "df_test.dtypes"
   ]
  },
  {
   "cell_type": "code",
   "execution_count": null,
   "metadata": {},
   "outputs": [],
   "source": [
    "## Train set\n",
    "df_train.describe()"
   ]
  },
  {
   "cell_type": "code",
   "execution_count": null,
   "metadata": {},
   "outputs": [],
   "source": [
    "# Test set\n",
    "df_test.describe()"
   ]
  },
  {
   "cell_type": "markdown",
   "metadata": {},
   "source": [
    "Check if there is any **difference between the two cities** San Juan and Iquitos"
   ]
  },
  {
   "cell_type": "code",
   "execution_count": null,
   "metadata": {},
   "outputs": [],
   "source": [
    "df_train_num = df_train.drop(columns=['year','week_start_date'])\n",
    "\n",
    "figure(num=None, figsize=(15, 25), dpi=100)\n",
    "count = 1\n",
    "for i in range(0,len(df_train_num.columns)-2):\n",
    "    plt.subplot(7,3,count)\n",
    "    sns.scatterplot(x=\"weekofyear\", y=df_train_num.columns[i+2],hue=\"city\",data=df_train_num,palette=('blue','green'))\n",
    "    count+=1\n",
    "    \n",
    "plt.show()"
   ]
  },
  {
   "cell_type": "markdown",
   "metadata": {},
   "source": [
    "Selecting only representative variables for including the plots in the report"
   ]
  },
  {
   "cell_type": "code",
   "execution_count": null,
   "metadata": {},
   "outputs": [],
   "source": [
    "df_train_plot = df_train[['city','weekofyear','ndvi_ne','reanalysis_air_temp_k','reanalysis_relative_humidity_percent','station_avg_temp_c']]\n",
    "\n",
    "figure(num=None, figsize=(10, 8), dpi=100)\n",
    "count = 1\n",
    "for i in range(0,len(df_train_plot.columns)-2):\n",
    "    plt.subplot(2,2,count)\n",
    "    sns.scatterplot(x=\"weekofyear\", y=df_train_plot.columns[i+2],hue=\"city\",data=df_train_plot,palette=('blue','green'))\n",
    "    count+=1\n",
    "    \n",
    "plt.show()"
   ]
  },
  {
   "cell_type": "markdown",
   "metadata": {},
   "source": [
    "The distributions of the variables for the two cities in scope seems very different from each other. Probably due to the fact that San Juan belongs to the Northern hemisphere and Iquitos belongs to the Southern hemisphere. In fact, all the variables related to the distribution of vegetation, and those related to humidity, temperature and precipitation seem to have almost an **opposite behavior** in the two cities with respect to the weeks of the year. For example, in San Juan average temperatures are highest around week 30 of the year (full summer in the Northern hemisphere), as well as humidity is lowest in this period; while on the contrary in Iquitos, the average temperature is highest around weeks 52-1 (corresponding to summer in the Southern hemisphere), as well as humidity is lowest in the same period. \n",
    "\n",
    "**_For this reason I decide to treat the two cities separately from now on and fit models separately on them_**"
   ]
  },
  {
   "cell_type": "code",
   "execution_count": null,
   "metadata": {},
   "outputs": [],
   "source": [
    "# Separating data for the two cities\n",
    "df_train_sj = df_train[df_train['city']=='sj']\n",
    "df_test_sj = df_test[df_test['city']=='sj']\n",
    "df_train_iq = df_train[df_train['city']=='iq']\n",
    "df_test_iq = df_test[df_test['city']=='iq']"
   ]
  },
  {
   "cell_type": "markdown",
   "metadata": {},
   "source": [
    "Next step is to explore features and **check for highly-correlated variables** in the train set that I will be removing during the pre-processing phase"
   ]
  },
  {
   "cell_type": "code",
   "execution_count": null,
   "metadata": {},
   "outputs": [],
   "source": [
    "corr = df_train_sj.drop(columns=['city','weekofyear','total_cases','year','week_start_date'],axis=1).corr()\n",
    "plt.figure(figsize=(12, 10))\n",
    "plt.title('San Juan Variable Correlations')\n",
    "sns.heatmap(corr,cmap='YlGnBu', vmax=1.0, vmin=-1.0, linewidths=0.1,\n",
    "            annot=False, annot_kws={\"size\": 8}, square=True);"
   ]
  },
  {
   "cell_type": "code",
   "execution_count": null,
   "metadata": {},
   "outputs": [],
   "source": [
    "corr = df_train_iq.drop(columns=['city','weekofyear','total_cases','year','week_start_date'],axis=1).corr()\n",
    "plt.figure(figsize=(12, 10))\n",
    "plt.title('Iquitos Variable Correlations')\n",
    "sns.heatmap(corr,cmap='YlGn', vmax=1.0, vmin=-1.0, linewidths=0.1,\n",
    "            annot=False, annot_kws={\"size\": 8}, square=True);"
   ]
  },
  {
   "cell_type": "markdown",
   "metadata": {},
   "source": [
    "The two plots above show highly correlated features in the train sets for both San Juan and Iquitos. In the data pre-processing section these features will be removed and then the same will be done in the test set, to avoid any data leakage problems, in order to lower model complexity. This difference in the correlations of these cities supports the choice to keep the two cities separate."
   ]
  },
  {
   "cell_type": "markdown",
   "metadata": {},
   "source": [
    "Last step is to explore and take a look at the target variable `total_cases` and check for correlations with the features in the dataset."
   ]
  },
  {
   "cell_type": "code",
   "execution_count": null,
   "metadata": {},
   "outputs": [],
   "source": [
    "plt.figure(figsize=(15, 10))\n",
    "ax = plt.subplot(2,1,1)\n",
    "ax.set_title(\"San Juan\")\n",
    "sns.boxplot(data=df_train_sj, x='weekofyear', y='total_cases')\n",
    "\n",
    "ax = plt.subplot(2,1,2)\n",
    "ax.set_title(\"Iquitos\")\n",
    "sns.boxplot(data=df_train_iq, x='weekofyear', y='total_cases')"
   ]
  },
  {
   "cell_type": "code",
   "execution_count": null,
   "metadata": {},
   "outputs": [],
   "source": [
    "plt.figure(figsize=(16, 15))\n",
    "\n",
    "ax = plt.subplot2grid((2,4), (0, 0), colspan=3)\n",
    "df_train_sj[\"week_start_dt\"] = pd.to_datetime(df_train_sj.week_start_date)\n",
    "df_train_sj.plot(x=\"week_start_dt\", y=\"total_cases\", ax = ax, title=\"Time Series of Dengue Total Cases in San Juan\",\n",
    "                 color='blue')\n",
    "plt.xlabel('years')\n",
    "ymin, ymax = ax.get_ylim()\n",
    "dt_range = pd.date_range(start=pd.datetime(1990, 4, 1), periods=19, freq=pd.DateOffset(years=1))\n",
    "ax.vlines(x=dt_range  , ymin=ymin, ymax=ymax-1, linestyles='--', lw=1)\n",
    "\n",
    "ax = plt.subplot2grid((2,4), (0,3), colspan=1)\n",
    "ax.set_title(\"Histogram of total cases in San Juan\")\n",
    "ax.set_xlabel(\"# of cases\")\n",
    "df_train_sj.total_cases.hist(orientation='horizontal', ax=ax, bins=40,color='blue')\n",
    "_ = plt.setp(ax.get_yticklabels(), visible=False)\n",
    "\n",
    "## \n",
    "ax = plt.subplot2grid((2,4), (1, 0), colspan=3)\n",
    "df_train_iq[\"week_start_dt\"] = pd.to_datetime(df_train_iq.week_start_date)\n",
    "df_train_iq.plot(x=\"week_start_dt\", y=\"total_cases\", ax = ax, title=\"Time Series of Dengue Total Cases in Iquitos\",\n",
    "                color='green')\n",
    "plt.xlabel('years')\n",
    "ymin, ymax = ax.get_ylim()\n",
    "dt_range = pd.date_range(start=pd.datetime(2000, 4, 1), periods=11, freq=pd.DateOffset(years=1))\n",
    "ax.vlines(x=dt_range  , ymin=ymin, ymax=ymax-1, linestyles='--', lw=1)\n",
    "\n",
    "ax = plt.subplot2grid((2,4), (1,3), colspan=1)\n",
    "ax.set_title(\"Histogram of total cases in Iquitos\")\n",
    "ax.set_xlabel(\"# of cases\")\n",
    "df_train_iq.total_cases.hist(orientation='horizontal', ax=ax, bins=40,color='green')\n",
    "_ = plt.setp(ax.get_yticklabels(), visible=False)"
   ]
  },
  {
   "cell_type": "markdown",
   "metadata": {},
   "source": [
    "As one can see, San Juan had several peaks of cases in 1995, 1999 and then two more moderate peaks in 2006 and 2008, respectively; while Iquitos had its highest peak of infections in 2005 - a year when cases in San Juan were very low - followed by 2009 and 2008. Once again, the differences between the two cities are confirmed."
   ]
  },
  {
   "cell_type": "code",
   "execution_count": null,
   "metadata": {},
   "outputs": [],
   "source": [
    "# Basic statistics for target variable in the train set\n",
    "\n",
    "# San Juan\n",
    "df_train_sj['total_cases'].describe()"
   ]
  },
  {
   "cell_type": "code",
   "execution_count": null,
   "metadata": {},
   "outputs": [],
   "source": [
    "# Iquitos\n",
    "df_train_iq['total_cases'].describe()"
   ]
  },
  {
   "cell_type": "code",
   "execution_count": null,
   "metadata": {},
   "outputs": [],
   "source": [
    "# Compute the correlations to the target variable for San Juan\n",
    "corr = df_train_sj.drop(columns=['city','weekofyear','year','week_start_date'],axis=1).corr()\n",
    "plt.title('Correlation to the Target Variable in San Juan')\n",
    "plt.xlabel('correlation value')\n",
    "(corr\n",
    "     .total_cases\n",
    "     .drop('total_cases') # don't compare with myself\n",
    "     .sort_values(ascending=False)\n",
    "     .plot\n",
    "     .barh(xlim=(-0.1, 0.25),color='blue'))"
   ]
  },
  {
   "cell_type": "code",
   "execution_count": null,
   "metadata": {},
   "outputs": [],
   "source": [
    "# Compute the correlations to the target variable for Iquitos\n",
    "corr = df_train_iq.drop(columns=['city','weekofyear','year','week_start_date'],axis=1).corr()\n",
    "plt.title('Correlation to the Target Variable in Iquitos')\n",
    "plt.xlabel('correlation value')\n",
    "(corr\n",
    "     .total_cases\n",
    "     .drop('total_cases') # don't compare with myself\n",
    "     .sort_values(ascending=False)\n",
    "     .plot\n",
    "     .barh(xlim=(-0.15, 0.25),color='green'))"
   ]
  },
  {
   "cell_type": "markdown",
   "metadata": {},
   "source": [
    "<h1><center> Implementation </center></h1>"
   ]
  },
  {
   "cell_type": "markdown",
   "metadata": {},
   "source": [
    "## Data Pre-processing"
   ]
  },
  {
   "cell_type": "markdown",
   "metadata": {},
   "source": [
    "Check for **missing values** and impute them with the mean of the features themselves. I choose to calculate mean values on the train set only and use those values for the test set too, in order to avoid any data leakage issue that may arise. This is done for both cities."
   ]
  },
  {
   "cell_type": "code",
   "execution_count": null,
   "metadata": {},
   "outputs": [],
   "source": [
    "## Train set sj\n",
    "df_train_sj.isnull().sum()"
   ]
  },
  {
   "cell_type": "code",
   "execution_count": null,
   "metadata": {},
   "outputs": [],
   "source": [
    "# Impute the NaNs with mean\n",
    "df_train_sj.fillna(df_train_sj.mean(), inplace=True)\n",
    "# Check the number of NaN values in each column after imputation\n",
    "df_train_sj.isnull().sum()"
   ]
  },
  {
   "cell_type": "code",
   "execution_count": null,
   "metadata": {},
   "outputs": [],
   "source": [
    "## Test set sj\n",
    "# Impute the NaNs with mean\n",
    "df_test_sj.fillna(df_train_sj.mean(), inplace=True)\n",
    "# Check the number of NaN values in each column after imputation\n",
    "df_test_sj.isnull().sum()"
   ]
  },
  {
   "cell_type": "code",
   "execution_count": null,
   "metadata": {},
   "outputs": [],
   "source": [
    "## Train set iq\n",
    "df_train_iq.isnull().sum()"
   ]
  },
  {
   "cell_type": "code",
   "execution_count": null,
   "metadata": {},
   "outputs": [],
   "source": [
    "# Impute the NaNs with mean\n",
    "df_train_iq.fillna(df_train_iq.mean(), inplace=True)\n",
    "# Check the number of NaN values in each column after imputation\n",
    "df_train_iq.isnull().sum()"
   ]
  },
  {
   "cell_type": "code",
   "execution_count": null,
   "metadata": {},
   "outputs": [],
   "source": [
    "## Test set iq\n",
    "# Impute the NaNs with mean\n",
    "df_test_iq.fillna(df_train_iq.mean(), inplace=True)\n",
    "# Check the number of NaN values in each column after imputation\n",
    "df_test_iq.isnull().sum()"
   ]
  },
  {
   "cell_type": "markdown",
   "metadata": {
    "colab_type": "text",
    "id": "u4FU9OwRmxUD"
   },
   "source": [
    "Now it's time to check and handle **outliers** in the train and test set. Similarly to the missing values, I will be checking for outliers in the train set and decide on that dataset how to _cap / floor the data_ in both train and test sets."
   ]
  },
  {
   "cell_type": "code",
   "execution_count": null,
   "metadata": {},
   "outputs": [],
   "source": [
    "def treatoutliers (df_train,df_test,factor=1.5):\n",
    "    columns=df_train.iloc[:,4:24].columns\n",
    "    print(columns)\n",
    "    \n",
    "    for column in columns:\n",
    "        \n",
    "        if is_numeric_dtype(df_train[column]):\n",
    "            \n",
    "            Q1 = df_train[column].quantile(0.10)\n",
    "            Q3 = df_train[column].quantile(0.90)\n",
    "            IQR = Q3 - Q1\n",
    "            floor, ceil = Q1 - factor * IQR, Q3 + factor * IQR\n",
    "            df_train[column] = pd.DataFrame(df_train[column].clip(floor, ceil))\n",
    "            df_test[column] = pd.DataFrame(df_test[column].clip(floor, ceil))\n",
    "            \n",
    "        else:\n",
    "            df_train[column] = pd.DataFrame(df_train[column])\n",
    "            df_test[column] = pd.DataFrame(df_test[column])\n",
    "        \n",
    "    return df_train,df_test"
   ]
  },
  {
   "cell_type": "code",
   "execution_count": null,
   "metadata": {},
   "outputs": [],
   "source": [
    "# San Juan\n",
    "df_train_sj,df_test_sj = treatoutliers(df_train_sj,df_test_sj)\n",
    "\n",
    "# Iquitos\n",
    "df_train_iq,df_test_iq = treatoutliers(df_train_iq,df_test_iq)"
   ]
  },
  {
   "cell_type": "markdown",
   "metadata": {},
   "source": [
    "The above function has been inspired by the function available on GitHub at the following linkhttps://gist.github.com/wolframalpha/1681593cfeeeaff25f04f0d77e1dbd6e and it is able to handle outliers by capping / flooring them or even removing them"
   ]
  },
  {
   "cell_type": "markdown",
   "metadata": {},
   "source": [
    "Heading back to the **highly-correlated** features, I use a function that removes from the train set all the features having a correlation higher than abs(0.90)."
   ]
  },
  {
   "cell_type": "code",
   "execution_count": null,
   "metadata": {},
   "outputs": [],
   "source": [
    "def handlecorrelation(df, corr_val):\n",
    "\n",
    "    # Creates Correlation Matrix and Instantiates\n",
    "    corr_matrix = df.corr()\n",
    "    iters = range(len(corr_matrix.columns) - 1)\n",
    "    drop_cols = []\n",
    "\n",
    "    # Iterates through Correlation Matrix Table to find correlated columns\n",
    "    for i in iters:\n",
    "        for j in range(i):\n",
    "            item = corr_matrix.iloc[j:(j+1), (i+1):(i+2)]\n",
    "            col = item.columns\n",
    "            row = item.index\n",
    "            val = item.values\n",
    "            if abs(val) >= corr_val:\n",
    "                # Prints the correlated feature set and the corr val\n",
    "                print(col.values[0], \"|\", row.values[0], \"|\", round(val[0][0], 2))\n",
    "                drop_cols.append(i)\n",
    "\n",
    "    drops = sorted(set(drop_cols))[::-1]\n",
    "\n",
    "    # Drops the correlated columns\n",
    "    for i in drops:\n",
    "        col = df.iloc[:, (i+1):(i+2)].columns.values\n",
    "        df = df.drop(col, axis=1)\n",
    "    return df"
   ]
  },
  {
   "cell_type": "code",
   "execution_count": null,
   "metadata": {},
   "outputs": [],
   "source": [
    "# San Juan - run the function four times before stopping\n",
    "df_train_sj = handlecorrelation(df_train_sj,0.9)\n",
    "df_train_sj.columns"
   ]
  },
  {
   "cell_type": "code",
   "execution_count": 71,
   "metadata": {},
   "outputs": [
    {
     "data": {
      "text/html": [
       "<div>\n",
       "<style scoped>\n",
       "    .dataframe tbody tr th:only-of-type {\n",
       "        vertical-align: middle;\n",
       "    }\n",
       "\n",
       "    .dataframe tbody tr th {\n",
       "        vertical-align: top;\n",
       "    }\n",
       "\n",
       "    .dataframe thead th {\n",
       "        text-align: right;\n",
       "    }\n",
       "</style>\n",
       "<table border=\"1\" class=\"dataframe\">\n",
       "  <thead>\n",
       "    <tr style=\"text-align: right;\">\n",
       "      <th></th>\n",
       "      <th>city</th>\n",
       "      <th>year</th>\n",
       "      <th>weekofyear</th>\n",
       "      <th>week_start_date</th>\n",
       "      <th>ndvi_ne</th>\n",
       "      <th>ndvi_nw</th>\n",
       "      <th>ndvi_se</th>\n",
       "      <th>ndvi_sw</th>\n",
       "      <th>reanalysis_min_air_temp_k</th>\n",
       "      <th>reanalysis_sat_precip_amt_mm</th>\n",
       "      <th>reanalysis_specific_humidity_g_per_kg</th>\n",
       "      <th>reanalysis_tdtr_k</th>\n",
       "      <th>station_avg_temp_c</th>\n",
       "      <th>station_diur_temp_rng_c</th>\n",
       "      <th>station_max_temp_c</th>\n",
       "      <th>station_min_temp_c</th>\n",
       "      <th>station_precip_mm</th>\n",
       "    </tr>\n",
       "  </thead>\n",
       "  <tbody>\n",
       "    <tr>\n",
       "      <th>0</th>\n",
       "      <td>sj</td>\n",
       "      <td>2008</td>\n",
       "      <td>18</td>\n",
       "      <td>2008-04-29</td>\n",
       "      <td>-0.018900</td>\n",
       "      <td>-0.018900</td>\n",
       "      <td>0.102729</td>\n",
       "      <td>0.091200</td>\n",
       "      <td>296.4</td>\n",
       "      <td>78.60</td>\n",
       "      <td>15.918571</td>\n",
       "      <td>3.128571</td>\n",
       "      <td>26.528571</td>\n",
       "      <td>7.057143</td>\n",
       "      <td>33.3</td>\n",
       "      <td>21.7</td>\n",
       "      <td>75.2</td>\n",
       "    </tr>\n",
       "    <tr>\n",
       "      <th>1</th>\n",
       "      <td>sj</td>\n",
       "      <td>2008</td>\n",
       "      <td>19</td>\n",
       "      <td>2008-05-06</td>\n",
       "      <td>-0.018000</td>\n",
       "      <td>-0.012400</td>\n",
       "      <td>0.082043</td>\n",
       "      <td>0.072314</td>\n",
       "      <td>296.7</td>\n",
       "      <td>12.56</td>\n",
       "      <td>15.791429</td>\n",
       "      <td>2.571429</td>\n",
       "      <td>26.071429</td>\n",
       "      <td>5.557143</td>\n",
       "      <td>30.0</td>\n",
       "      <td>22.2</td>\n",
       "      <td>34.3</td>\n",
       "    </tr>\n",
       "    <tr>\n",
       "      <th>2</th>\n",
       "      <td>sj</td>\n",
       "      <td>2008</td>\n",
       "      <td>20</td>\n",
       "      <td>2008-05-13</td>\n",
       "      <td>-0.001500</td>\n",
       "      <td>0.067469</td>\n",
       "      <td>0.151083</td>\n",
       "      <td>0.091529</td>\n",
       "      <td>296.4</td>\n",
       "      <td>3.66</td>\n",
       "      <td>16.674286</td>\n",
       "      <td>4.428571</td>\n",
       "      <td>27.928571</td>\n",
       "      <td>7.785714</td>\n",
       "      <td>32.8</td>\n",
       "      <td>22.8</td>\n",
       "      <td>3.0</td>\n",
       "    </tr>\n",
       "    <tr>\n",
       "      <th>3</th>\n",
       "      <td>sj</td>\n",
       "      <td>2008</td>\n",
       "      <td>21</td>\n",
       "      <td>2008-05-20</td>\n",
       "      <td>0.057925</td>\n",
       "      <td>-0.019867</td>\n",
       "      <td>0.124329</td>\n",
       "      <td>0.125686</td>\n",
       "      <td>296.9</td>\n",
       "      <td>0.00</td>\n",
       "      <td>15.775714</td>\n",
       "      <td>4.342857</td>\n",
       "      <td>28.057143</td>\n",
       "      <td>6.271429</td>\n",
       "      <td>33.3</td>\n",
       "      <td>24.4</td>\n",
       "      <td>0.3</td>\n",
       "    </tr>\n",
       "    <tr>\n",
       "      <th>4</th>\n",
       "      <td>sj</td>\n",
       "      <td>2008</td>\n",
       "      <td>22</td>\n",
       "      <td>2008-05-27</td>\n",
       "      <td>0.056800</td>\n",
       "      <td>0.039833</td>\n",
       "      <td>0.062267</td>\n",
       "      <td>0.075914</td>\n",
       "      <td>297.3</td>\n",
       "      <td>0.76</td>\n",
       "      <td>16.137143</td>\n",
       "      <td>3.542857</td>\n",
       "      <td>27.614286</td>\n",
       "      <td>7.085714</td>\n",
       "      <td>33.3</td>\n",
       "      <td>23.3</td>\n",
       "      <td>84.1</td>\n",
       "    </tr>\n",
       "  </tbody>\n",
       "</table>\n",
       "</div>"
      ],
      "text/plain": [
       "  city  year  weekofyear week_start_date   ndvi_ne   ndvi_nw   ndvi_se  \\\n",
       "0   sj  2008          18      2008-04-29 -0.018900 -0.018900  0.102729   \n",
       "1   sj  2008          19      2008-05-06 -0.018000 -0.012400  0.082043   \n",
       "2   sj  2008          20      2008-05-13 -0.001500  0.067469  0.151083   \n",
       "3   sj  2008          21      2008-05-20  0.057925 -0.019867  0.124329   \n",
       "4   sj  2008          22      2008-05-27  0.056800  0.039833  0.062267   \n",
       "\n",
       "    ndvi_sw  reanalysis_min_air_temp_k  reanalysis_sat_precip_amt_mm  \\\n",
       "0  0.091200                      296.4                         78.60   \n",
       "1  0.072314                      296.7                         12.56   \n",
       "2  0.091529                      296.4                          3.66   \n",
       "3  0.125686                      296.9                          0.00   \n",
       "4  0.075914                      297.3                          0.76   \n",
       "\n",
       "   reanalysis_specific_humidity_g_per_kg  reanalysis_tdtr_k  \\\n",
       "0                              15.918571           3.128571   \n",
       "1                              15.791429           2.571429   \n",
       "2                              16.674286           4.428571   \n",
       "3                              15.775714           4.342857   \n",
       "4                              16.137143           3.542857   \n",
       "\n",
       "   station_avg_temp_c  station_diur_temp_rng_c  station_max_temp_c  \\\n",
       "0           26.528571                 7.057143                33.3   \n",
       "1           26.071429                 5.557143                30.0   \n",
       "2           27.928571                 7.785714                32.8   \n",
       "3           28.057143                 6.271429                33.3   \n",
       "4           27.614286                 7.085714                33.3   \n",
       "\n",
       "   station_min_temp_c  station_precip_mm  \n",
       "0                21.7               75.2  \n",
       "1                22.2               34.3  \n",
       "2                22.8                3.0  \n",
       "3                24.4                0.3  \n",
       "4                23.3               84.1  "
      ]
     },
     "execution_count": 71,
     "metadata": {},
     "output_type": "execute_result"
    }
   ],
   "source": [
    "df_test_sj = df_test_sj[['city', 'year', 'weekofyear', 'week_start_date', 'ndvi_ne',\n",
    "       'ndvi_nw', 'ndvi_se', 'ndvi_sw',\n",
    "       'reanalysis_min_air_temp_k', 'reanalysis_sat_precip_amt_mm',\n",
    "       'reanalysis_specific_humidity_g_per_kg', 'reanalysis_tdtr_k',\n",
    "       'station_avg_temp_c', 'station_diur_temp_rng_c',\n",
    "       'station_max_temp_c', 'station_min_temp_c', 'station_precip_mm'\n",
    "       ]]\n",
    "df_test_sj.head()"
   ]
  },
  {
   "cell_type": "code",
   "execution_count": 76,
   "metadata": {},
   "outputs": [
    {
     "data": {
      "text/plain": [
       "Index([u'city', u'year', u'weekofyear', u'week_start_date', u'ndvi_ne',\n",
       "       u'ndvi_nw', u'ndvi_se', u'ndvi_sw', u'reanalysis_air_temp_k',\n",
       "       u'reanalysis_sat_precip_amt_mm',\n",
       "       u'reanalysis_specific_humidity_g_per_kg', u'reanalysis_tdtr_k',\n",
       "       u'station_avg_temp_c', u'station_diur_temp_rng_c',\n",
       "       u'station_max_temp_c', u'station_min_temp_c', u'station_precip_mm',\n",
       "       u'total_cases', u'week_start_dt'],\n",
       "      dtype='object')"
      ]
     },
     "execution_count": 76,
     "metadata": {},
     "output_type": "execute_result"
    }
   ],
   "source": [
    "# Iquitos - run the function five times before stopping\n",
    "df_train_iq = handlecorrelation(df_train_iq,0.9)\n",
    "df_train_iq.columns"
   ]
  },
  {
   "cell_type": "code",
   "execution_count": 77,
   "metadata": {},
   "outputs": [
    {
     "data": {
      "text/html": [
       "<div>\n",
       "<style scoped>\n",
       "    .dataframe tbody tr th:only-of-type {\n",
       "        vertical-align: middle;\n",
       "    }\n",
       "\n",
       "    .dataframe tbody tr th {\n",
       "        vertical-align: top;\n",
       "    }\n",
       "\n",
       "    .dataframe thead th {\n",
       "        text-align: right;\n",
       "    }\n",
       "</style>\n",
       "<table border=\"1\" class=\"dataframe\">\n",
       "  <thead>\n",
       "    <tr style=\"text-align: right;\">\n",
       "      <th></th>\n",
       "      <th>city</th>\n",
       "      <th>year</th>\n",
       "      <th>weekofyear</th>\n",
       "      <th>week_start_date</th>\n",
       "      <th>ndvi_ne</th>\n",
       "      <th>ndvi_nw</th>\n",
       "      <th>ndvi_se</th>\n",
       "      <th>ndvi_sw</th>\n",
       "      <th>reanalysis_air_temp_k</th>\n",
       "      <th>reanalysis_sat_precip_amt_mm</th>\n",
       "      <th>reanalysis_specific_humidity_g_per_kg</th>\n",
       "      <th>reanalysis_tdtr_k</th>\n",
       "      <th>station_avg_temp_c</th>\n",
       "      <th>station_diur_temp_rng_c</th>\n",
       "      <th>station_max_temp_c</th>\n",
       "      <th>station_min_temp_c</th>\n",
       "      <th>station_precip_mm</th>\n",
       "    </tr>\n",
       "  </thead>\n",
       "  <tbody>\n",
       "    <tr>\n",
       "      <th>260</th>\n",
       "      <td>iq</td>\n",
       "      <td>2010</td>\n",
       "      <td>26</td>\n",
       "      <td>2010-07-02</td>\n",
       "      <td>0.183783</td>\n",
       "      <td>0.142500</td>\n",
       "      <td>0.225129</td>\n",
       "      <td>0.150214</td>\n",
       "      <td>297.648571</td>\n",
       "      <td>82.29</td>\n",
       "      <td>17.654286</td>\n",
       "      <td>9.428571</td>\n",
       "      <td>27.440</td>\n",
       "      <td>10.760</td>\n",
       "      <td>33.8</td>\n",
       "      <td>21.50</td>\n",
       "      <td>11.2</td>\n",
       "    </tr>\n",
       "    <tr>\n",
       "      <th>261</th>\n",
       "      <td>iq</td>\n",
       "      <td>2010</td>\n",
       "      <td>27</td>\n",
       "      <td>2010-07-09</td>\n",
       "      <td>0.291657</td>\n",
       "      <td>0.272267</td>\n",
       "      <td>0.330700</td>\n",
       "      <td>0.320914</td>\n",
       "      <td>298.224286</td>\n",
       "      <td>25.30</td>\n",
       "      <td>16.320000</td>\n",
       "      <td>10.157143</td>\n",
       "      <td>27.025</td>\n",
       "      <td>9.625</td>\n",
       "      <td>33.0</td>\n",
       "      <td>21.20</td>\n",
       "      <td>8.9</td>\n",
       "    </tr>\n",
       "    <tr>\n",
       "      <th>262</th>\n",
       "      <td>iq</td>\n",
       "      <td>2010</td>\n",
       "      <td>28</td>\n",
       "      <td>2010-07-16</td>\n",
       "      <td>0.208543</td>\n",
       "      <td>0.366457</td>\n",
       "      <td>0.212629</td>\n",
       "      <td>0.255514</td>\n",
       "      <td>297.955714</td>\n",
       "      <td>62.14</td>\n",
       "      <td>18.030000</td>\n",
       "      <td>9.557143</td>\n",
       "      <td>26.950</td>\n",
       "      <td>10.350</td>\n",
       "      <td>33.4</td>\n",
       "      <td>21.60</td>\n",
       "      <td>22.6</td>\n",
       "    </tr>\n",
       "    <tr>\n",
       "      <th>263</th>\n",
       "      <td>iq</td>\n",
       "      <td>2010</td>\n",
       "      <td>29</td>\n",
       "      <td>2010-07-23</td>\n",
       "      <td>0.089286</td>\n",
       "      <td>0.063214</td>\n",
       "      <td>0.122057</td>\n",
       "      <td>0.081957</td>\n",
       "      <td>295.715714</td>\n",
       "      <td>47.80</td>\n",
       "      <td>15.394286</td>\n",
       "      <td>7.828571</td>\n",
       "      <td>26.900</td>\n",
       "      <td>9.700</td>\n",
       "      <td>33.3</td>\n",
       "      <td>15.75</td>\n",
       "      <td>4.8</td>\n",
       "    </tr>\n",
       "    <tr>\n",
       "      <th>264</th>\n",
       "      <td>iq</td>\n",
       "      <td>2010</td>\n",
       "      <td>30</td>\n",
       "      <td>2010-07-30</td>\n",
       "      <td>0.306100</td>\n",
       "      <td>0.327683</td>\n",
       "      <td>0.250086</td>\n",
       "      <td>0.267914</td>\n",
       "      <td>298.502857</td>\n",
       "      <td>56.30</td>\n",
       "      <td>15.468571</td>\n",
       "      <td>11.771429</td>\n",
       "      <td>27.050</td>\n",
       "      <td>11.850</td>\n",
       "      <td>33.5</td>\n",
       "      <td>16.90</td>\n",
       "      <td>3.0</td>\n",
       "    </tr>\n",
       "  </tbody>\n",
       "</table>\n",
       "</div>"
      ],
      "text/plain": [
       "    city  year  weekofyear week_start_date   ndvi_ne   ndvi_nw   ndvi_se  \\\n",
       "260   iq  2010          26      2010-07-02  0.183783  0.142500  0.225129   \n",
       "261   iq  2010          27      2010-07-09  0.291657  0.272267  0.330700   \n",
       "262   iq  2010          28      2010-07-16  0.208543  0.366457  0.212629   \n",
       "263   iq  2010          29      2010-07-23  0.089286  0.063214  0.122057   \n",
       "264   iq  2010          30      2010-07-30  0.306100  0.327683  0.250086   \n",
       "\n",
       "      ndvi_sw  reanalysis_air_temp_k  reanalysis_sat_precip_amt_mm  \\\n",
       "260  0.150214             297.648571                         82.29   \n",
       "261  0.320914             298.224286                         25.30   \n",
       "262  0.255514             297.955714                         62.14   \n",
       "263  0.081957             295.715714                         47.80   \n",
       "264  0.267914             298.502857                         56.30   \n",
       "\n",
       "     reanalysis_specific_humidity_g_per_kg  reanalysis_tdtr_k  \\\n",
       "260                              17.654286           9.428571   \n",
       "261                              16.320000          10.157143   \n",
       "262                              18.030000           9.557143   \n",
       "263                              15.394286           7.828571   \n",
       "264                              15.468571          11.771429   \n",
       "\n",
       "     station_avg_temp_c  station_diur_temp_rng_c  station_max_temp_c  \\\n",
       "260              27.440                   10.760                33.8   \n",
       "261              27.025                    9.625                33.0   \n",
       "262              26.950                   10.350                33.4   \n",
       "263              26.900                    9.700                33.3   \n",
       "264              27.050                   11.850                33.5   \n",
       "\n",
       "     station_min_temp_c  station_precip_mm  \n",
       "260               21.50               11.2  \n",
       "261               21.20                8.9  \n",
       "262               21.60               22.6  \n",
       "263               15.75                4.8  \n",
       "264               16.90                3.0  "
      ]
     },
     "execution_count": 77,
     "metadata": {},
     "output_type": "execute_result"
    }
   ],
   "source": [
    "df_test_iq=df_test_iq[['city', 'year', 'weekofyear', 'week_start_date', 'ndvi_ne',\n",
    "       'ndvi_nw', 'ndvi_se', 'ndvi_sw',\n",
    "       'reanalysis_air_temp_k', 'reanalysis_sat_precip_amt_mm',\n",
    "       'reanalysis_specific_humidity_g_per_kg', 'reanalysis_tdtr_k',\n",
    "       'station_avg_temp_c', 'station_diur_temp_rng_c',\n",
    "       'station_max_temp_c', 'station_min_temp_c', 'station_precip_mm']]\n",
    "df_test_iq.head()"
   ]
  },
  {
   "cell_type": "markdown",
   "metadata": {},
   "source": [
    "Now it is time to drop columns that are not correlated to the target variable. As previously seen, for the San Juan data, the features related to vegetation `ndvi_sw` and `ndvi_se` were not correlated to the `total_cases`. So I will be dropping these."
   ]
  },
  {
   "cell_type": "code",
   "execution_count": 78,
   "metadata": {},
   "outputs": [],
   "source": [
    "# San Juan\n",
    "df_train_sj = df_train_sj.drop(columns=['ndvi_sw','ndvi_se','week_start_dt'])\n",
    "df_test_sj = df_test_sj.drop(columns=['ndvi_sw','ndvi_se'])\n",
    "\n",
    "# Iquitos\n",
    "df_train_iq = df_train_iq.drop(columns=['week_start_dt'])"
   ]
  },
  {
   "cell_type": "code",
   "execution_count": 79,
   "metadata": {},
   "outputs": [
    {
     "data": {
      "text/plain": [
       "(933, 16)"
      ]
     },
     "execution_count": 79,
     "metadata": {},
     "output_type": "execute_result"
    }
   ],
   "source": [
    "df_train_sj.shape"
   ]
  },
  {
   "cell_type": "code",
   "execution_count": 80,
   "metadata": {},
   "outputs": [
    {
     "data": {
      "text/plain": [
       "(260, 15)"
      ]
     },
     "execution_count": 80,
     "metadata": {},
     "output_type": "execute_result"
    }
   ],
   "source": [
    "df_test_sj.shape"
   ]
  },
  {
   "cell_type": "code",
   "execution_count": 81,
   "metadata": {},
   "outputs": [
    {
     "data": {
      "text/plain": [
       "(518, 18)"
      ]
     },
     "execution_count": 81,
     "metadata": {},
     "output_type": "execute_result"
    }
   ],
   "source": [
    "df_train_iq.shape"
   ]
  },
  {
   "cell_type": "code",
   "execution_count": 82,
   "metadata": {},
   "outputs": [
    {
     "data": {
      "text/plain": [
       "(156, 17)"
      ]
     },
     "execution_count": 82,
     "metadata": {},
     "output_type": "execute_result"
    }
   ],
   "source": [
    "df_test_iq.shape"
   ]
  },
  {
   "cell_type": "markdown",
   "metadata": {},
   "source": [
    "## Extreme Gradient Boosting (XGBoost)"
   ]
  },
  {
   "cell_type": "markdown",
   "metadata": {},
   "source": [
    "**XGBoost** stands for _Extreme Gradient Boosting_ and it is an efficient implementation of the stochastic gradient boosting. It is both fast and efficient and it performs well on a wide range of predictive modelling tasks (Tianqi Chen, C. G., 2016. XGBoost: A Scalable Tree Boosting System, s.l.: ArXiv.Org.)"
   ]
  },
  {
   "cell_type": "markdown",
   "metadata": {},
   "source": [
    "### San Juan"
   ]
  },
  {
   "cell_type": "code",
   "execution_count": 258,
   "metadata": {},
   "outputs": [],
   "source": [
    "# San Juan\n",
    "df_train_sj_y = df_train_sj[['total_cases']].values\n",
    "df_train_sj_x = df_train_sj.drop(columns=['city','year','weekofyear','week_start_date','total_cases']).values\n",
    "df_test_sj_x = df_test_sj.drop(columns=['city','year','weekofyear','week_start_date']).values"
   ]
  },
  {
   "cell_type": "code",
   "execution_count": 259,
   "metadata": {},
   "outputs": [],
   "source": [
    "# Split train data into train and validation sets\n",
    "test_size = 0.2\n",
    "\n",
    "#San Juan\n",
    "df_train_sj_x, df_val_sj_x, df_train_sj_y, df_val_sj_y = train_test_split(df_train_sj_x, df_train_sj_y, test_size=test_size, shuffle=False)"
   ]
  },
  {
   "cell_type": "code",
   "execution_count": 260,
   "metadata": {},
   "outputs": [
    {
     "name": "stdout",
     "output_type": "stream",
     "text": [
      "('MAE:', 17.844919786096256)\n"
     ]
    },
    {
     "data": {
      "image/png": "[encoded data removed]",
      "text/plain": [
       "<Figure size 864x432 with 1 Axes>"
      ]
     },
     "metadata": {
      "needs_background": "light"
     },
     "output_type": "display_data"
    }
   ],
   "source": [
    "# San Juan\n",
    "# Fit model to training data\n",
    "model = xgb.XGBRegressor(n_estimators = 1000, # number of boosted trees\n",
    "                                learning_rate = 0.001, # step size shrinkage used in update to prevent overfitting\n",
    "                                max_depth = 10,\n",
    "                                subsample = 0.8, # subsample ratio of the training set (Stochastic gradient boosting)\n",
    "                                colsample_bytree = 0.75, \n",
    "                                objective =\"reg:linear\"\n",
    "                                )\n",
    "model.fit(df_train_sj_x, df_train_sj_y,eval_metric='mae')\n",
    "\n",
    "# Make predictions for validation data\n",
    "y_pred = model.predict(df_val_sj_x)\n",
    "predictions = [round(value) for value in y_pred]\n",
    "\n",
    "# Evaluate predictions\n",
    "MAE = metrics.mean_absolute_error(df_val_sj_y, predictions)\n",
    "print(\"MAE:\", MAE)\n",
    "\n",
    "# Plot expected vs predicted\n",
    "plt.figure(figsize=(12,6))\n",
    "plt.plot(df_val_sj_y, label='Actual',color='gray')\n",
    "plt.plot(predictions, label='Predicted',color='blue')\n",
    "plt.title(\"Actual vs Predicted Total Dengue Cases in San Juan\")\n",
    "plt.legend()\n",
    "plt.show()"
   ]
  },
  {
   "cell_type": "markdown",
   "metadata": {},
   "source": [
    "It looks like the predictions are a little bit \"late\" in detecting peaks in total cases. I will try to add **Moving Average Rolling Features** to check for improvements"
   ]
  },
  {
   "cell_type": "code",
   "execution_count": 261,
   "metadata": {},
   "outputs": [],
   "source": [
    "# San Juan\n",
    "df_train_sj_y = df_train_sj[['total_cases']]\n",
    "df_train_sj_x = df_train_sj.drop(columns=['city','year','weekofyear','week_start_date','total_cases'])\n",
    "df_test_sj_x = df_test_sj.drop(columns=['city','year','weekofyear','week_start_date'])"
   ]
  },
  {
   "cell_type": "code",
   "execution_count": 262,
   "metadata": {},
   "outputs": [],
   "source": [
    "# Create function to add rolling means\n",
    "\n",
    "def rolling_mean(df, window):\n",
    "    columns = df.columns\n",
    "    for col in columns:\n",
    "        df[col+'_rm'] = df[col].rolling(window).mean()\n",
    "    return df.fillna(0)"
   ]
  },
  {
   "cell_type": "code",
   "execution_count": 263,
   "metadata": {},
   "outputs": [],
   "source": [
    "# Rolling means 7 weeks\n",
    "df_train_sj_x = rolling_mean(df_train_sj_x,7)\n",
    "df_test_sj_x = rolling_mean(df_test_sj_x,7)\n",
    "\n",
    "# Rolling means 14 weeks\n",
    "df_train_sj_x = rolling_mean(df_train_sj_x,14)\n",
    "df_test_sj_x = rolling_mean(df_test_sj_x,14)"
   ]
  },
  {
   "cell_type": "code",
   "execution_count": 264,
   "metadata": {},
   "outputs": [],
   "source": [
    "df_train_sj_x = df_train_sj_x.values\n",
    "df_train_sj_y = df_train_sj_y.values\n",
    "df_test_sj_x = df_test_sj_x.values"
   ]
  },
  {
   "cell_type": "code",
   "execution_count": 265,
   "metadata": {},
   "outputs": [],
   "source": [
    "# Split train data into train and validation sets\n",
    "test_size = 0.2\n",
    "\n",
    "df_train_sj_x, df_val_sj_x, df_train_sj_y, df_val_sj_y = train_test_split(df_train_sj_x, df_train_sj_y, test_size=test_size, shuffle=False)"
   ]
  },
  {
   "cell_type": "code",
   "execution_count": 266,
   "metadata": {},
   "outputs": [
    {
     "name": "stdout",
     "output_type": "stream",
     "text": [
      "('MAE:', 11.491978609625669)\n"
     ]
    },
    {
     "data": {
      "image/png": "[encoded data removed]",
      "text/plain": [
       "<Figure size 864x432 with 1 Axes>"
      ]
     },
     "metadata": {
      "needs_background": "light"
     },
     "output_type": "display_data"
    }
   ],
   "source": [
    "# Fit model to training data\n",
    "model = xgb.XGBRegressor(n_estimators = 1000, # number of boosted trees\n",
    "                                learning_rate = 0.001, # step size shrinkage used in update to prevent overfitting\n",
    "                                max_depth = 10,\n",
    "                                subsample = 0.8, # subsample ratio of the training set (Stochastic gradient boosting)\n",
    "                                colsample_bytree = 0.75, \n",
    "                                objective =\"reg:linear\"\n",
    "                                )\n",
    "model.fit(df_train_sj_x, df_train_sj_y,eval_metric='mae')\n",
    "\n",
    "# Make predictions for validation data\n",
    "y_pred = model.predict(df_val_sj_x)\n",
    "predictions = [round(value) for value in y_pred]\n",
    "\n",
    "# Evaluate predictions\n",
    "MAE = metrics.mean_absolute_error(df_val_sj_y, predictions)\n",
    "print(\"MAE:\", MAE)\n",
    "\n",
    "# Plot expected vs predicted\n",
    "plt.figure(figsize=(12,6))\n",
    "plt.plot(df_val_sj_y, label='Actual',color='gray')\n",
    "plt.plot(predictions, label='Predicted',color='blue')\n",
    "plt.title(\"Actual vs Predicted Total Dengue Cases in San Juan\")\n",
    "plt.legend()\n",
    "plt.show()"
   ]
  },
  {
   "cell_type": "markdown",
   "metadata": {},
   "source": [
    "By adding rolling means at 7 and 14 weeks for all the chosen features the MAE score gets definitely better. It is time now to fit the model and **make predictions** on the test set"
   ]
  },
  {
   "cell_type": "code",
   "execution_count": 267,
   "metadata": {},
   "outputs": [],
   "source": [
    "final_xgb_predictions_sj = model.predict(df_test_sj_x)"
   ]
  },
  {
   "cell_type": "markdown",
   "metadata": {},
   "source": [
    "### Iquitos"
   ]
  },
  {
   "cell_type": "code",
   "execution_count": 268,
   "metadata": {},
   "outputs": [],
   "source": [
    "# Iquitos\n",
    "df_train_iq_y = df_train_iq[['total_cases']].values\n",
    "df_train_iq_x = df_train_iq.drop(columns=['city','year','weekofyear','week_start_date','total_cases']).values\n",
    "df_test_iq_x = df_test_iq.drop(columns=['city','year','weekofyear','week_start_date']).values"
   ]
  },
  {
   "cell_type": "code",
   "execution_count": 269,
   "metadata": {},
   "outputs": [],
   "source": [
    "# Split train data into train and validation sets\n",
    "test_size = 0.2\n",
    "\n",
    "# Iquitos\n",
    "df_train_iq_x, df_val_iq_x, df_train_iq_y, df_val_iq_y = train_test_split(df_train_iq_x, df_train_iq_y, test_size=test_size, shuffle=False)"
   ]
  },
  {
   "cell_type": "code",
   "execution_count": 270,
   "metadata": {},
   "outputs": [
    {
     "name": "stdout",
     "output_type": "stream",
     "text": [
      "('MAE:', 7.0576923076923075)\n"
     ]
    },
    {
     "data": {
      "image/png": "[encoded data removed]",
      "text/plain": [
       "<Figure size 864x432 with 1 Axes>"
      ]
     },
     "metadata": {
      "needs_background": "light"
     },
     "output_type": "display_data"
    }
   ],
   "source": [
    "# Iquitos\n",
    "# Fit model to training data\n",
    "model = xgb.XGBRegressor(n_estimators = 150, # number of boosted trees\n",
    "                                learning_rate = 0.01, # step size shrinkage used in update to prevent overfitting\n",
    "                                subsample = 0.8, # subsample ratio of the training set (Stochastic gradient boosting)\n",
    "                                colsample_bytree = 0.75\n",
    "                                )\n",
    "model.fit(df_train_iq_x, df_train_iq_y,eval_metric='mae')\n",
    "\n",
    "# Make predictions for validation data\n",
    "y_pred = model.predict(df_val_iq_x)\n",
    "predictions = [round(value) for value in y_pred]\n",
    "\n",
    "# Evaluate predictions\n",
    "MAE = metrics.mean_absolute_error(df_val_iq_y, predictions)\n",
    "print(\"MAE:\", MAE)\n",
    "\n",
    "# Plot expected vs preducted\n",
    "plt.figure(figsize=(12,6))\n",
    "plt.plot(df_val_iq_y, label='Actual',color='gray')\n",
    "plt.plot(predictions, label='Predicted',color='green')\n",
    "plt.title(\"Actual vs Predicted Total Dengue Cases in Iquitos\")\n",
    "plt.legend()\n",
    "plt.show()"
   ]
  },
  {
   "cell_type": "markdown",
   "metadata": {},
   "source": [
    "In this case, the model is clearly too _timid_, meaning that it does not catch the peaks of total dengue cases at all and at the same time it seems like it is overfitting. I will try to add **Moving Average Rolling Features** to check for improvements"
   ]
  },
  {
   "cell_type": "code",
   "execution_count": 271,
   "metadata": {},
   "outputs": [],
   "source": [
    "# Iquitos\n",
    "df_train_iq_y = df_train_iq[['total_cases']]\n",
    "df_train_iq_x = df_train_iq.drop(columns=['city','year','weekofyear','week_start_date','total_cases'])\n",
    "df_test_iq_x = df_test_iq.drop(columns=['city','year','weekofyear','week_start_date'])"
   ]
  },
  {
   "cell_type": "code",
   "execution_count": 272,
   "metadata": {},
   "outputs": [],
   "source": [
    "# Rolling means 1 week\n",
    "df_train_iq_x = rolling_mean(df_train_iq_x,1)\n",
    "df_test_iq_x = rolling_mean(df_test_iq_x,1)\n",
    "\n",
    "# Rolling means 5 weeks\n",
    "df_train_iq_x = rolling_mean(df_train_iq_x,5)\n",
    "df_test_iq_x = rolling_mean(df_test_iq_x,5)\n",
    "\n",
    "# Rolling means 10 weeks\n",
    "df_train_iq_x = rolling_mean(df_train_iq_x,10)\n",
    "df_test_iq_x = rolling_mean(df_test_iq_x,10)\n",
    "\n",
    "# Rolling means 15 weeks\n",
    "df_train_iq_x = rolling_mean(df_train_iq_x,15)\n",
    "df_test_iq_x = rolling_mean(df_test_iq_x,15)"
   ]
  },
  {
   "cell_type": "code",
   "execution_count": 273,
   "metadata": {},
   "outputs": [],
   "source": [
    "df_train_iq_x = df_train_iq_x.values\n",
    "df_train_iq_y = df_train_iq_y.values\n",
    "df_test_iq_x = df_test_iq_x.values"
   ]
  },
  {
   "cell_type": "code",
   "execution_count": 274,
   "metadata": {},
   "outputs": [],
   "source": [
    "# Split train data into train and validation sets\n",
    "test_size = 0.2\n",
    "\n",
    "df_train_iq_x, df_val_iq_x, df_train_iq_y, df_val_iq_y = train_test_split(df_train_iq_x, df_train_iq_y, test_size=test_size, shuffle=False)"
   ]
  },
  {
   "cell_type": "code",
   "execution_count": 275,
   "metadata": {},
   "outputs": [
    {
     "name": "stdout",
     "output_type": "stream",
     "text": [
      "('MAE:', 6.365384615384615)\n"
     ]
    },
    {
     "data": {
      "image/png": "[encoded data removed]",
      "text/plain": [
       "<Figure size 864x432 with 1 Axes>"
      ]
     },
     "metadata": {
      "needs_background": "light"
     },
     "output_type": "display_data"
    }
   ],
   "source": [
    "# Iquitos\n",
    "# Fit model to training data\n",
    "model = xgb.XGBRegressor(n_estimators = 10, # number of boosted trees\n",
    "                                learning_rate = 0.15, # step size shrinkage used in update to prevent overfitting\n",
    "                                subsample = 0.8, # subsample ratio of the training set (Stochastic gradient boosting)\n",
    "                                colsample_bytree = 0.75\n",
    "                                )\n",
    "model.fit(df_train_iq_x, df_train_iq_y,eval_metric='mae')\n",
    "\n",
    "# Make predictions for validation data\n",
    "y_pred = model.predict(df_val_iq_x)\n",
    "predictions = [round(value) for value in y_pred]\n",
    "\n",
    "# Evaluate predictions\n",
    "MAE = metrics.mean_absolute_error(df_val_iq_y, predictions)\n",
    "print(\"MAE:\", MAE)\n",
    "\n",
    "# Plot expected vs preducted\n",
    "plt.figure(figsize=(12,6))\n",
    "plt.plot(df_val_iq_y, label='Actual',color='gray')\n",
    "plt.plot(predictions, label='Predicted',color='green')\n",
    "plt.title(\"Actual vs Predicted Total Dengue Cases in Iquitos\")\n",
    "plt.legend()\n",
    "plt.show()"
   ]
  },
  {
   "cell_type": "markdown",
   "metadata": {},
   "source": [
    "After several tryals, I added adding rolling means at 1, 5, 10 and 15 weeks for all the chosen features, however the MAE score does not get that much better, although the model seems to be less _timid_ but still quite overfitting. I will try to fit the model and **make predictions** on the test set"
   ]
  },
  {
   "cell_type": "code",
   "execution_count": 276,
   "metadata": {},
   "outputs": [],
   "source": [
    "final_xgb_predictions_iq = model.predict(df_test_iq_x)"
   ]
  },
  {
   "cell_type": "markdown",
   "metadata": {},
   "source": [
    "## Long Short-Term Memory (LSTM)"
   ]
  },
  {
   "cell_type": "markdown",
   "metadata": {},
   "source": [
    "**Long Short-Term Memory** networks - usually simply called \"LSTM\" - are a special type of RNN that can handle long-term dependencies (rownlee, J., 2020. How to Use XGBoost for Time Series Forecasting, s.l.: Machine Learning Mastery.). For this reason, they are among the most widely used types of neural networks to date. "
   ]
  },
  {
   "cell_type": "markdown",
   "metadata": {},
   "source": [
    "### San Juan"
   ]
  },
  {
   "cell_type": "code",
   "execution_count": 2,
   "metadata": {},
   "outputs": [
    {
     "ename": "NameError",
     "evalue": "name 'df_train_sj' is not defined",
     "output_type": "error",
     "traceback": [
      "\u001b[0;31m\u001b[0m",
      "\u001b[0;31mNameError\u001b[0mTraceback (most recent call last)",
      "\u001b[0;32m<ipython-input-2-62c9c833cc2b>\u001b[0m in \u001b[0;36m<module>\u001b[0;34m()\u001b[0m\n\u001b[1;32m      1\u001b[0m \u001b[0;31m# San Juan\u001b[0m\u001b[0;34m\u001b[0m\u001b[0;34m\u001b[0m\u001b[0m\n\u001b[0;32m----> 2\u001b[0;31m \u001b[0mdf_train_sj_y\u001b[0m \u001b[0;34m=\u001b[0m \u001b[0mdf_train_sj\u001b[0m\u001b[0;34m[\u001b[0m\u001b[0;34m[\u001b[0m\u001b[0;34m'total_cases'\u001b[0m\u001b[0;34m]\u001b[0m\u001b[0;34m]\u001b[0m\u001b[0;34m.\u001b[0m\u001b[0mvalues\u001b[0m\u001b[0;34m\u001b[0m\u001b[0m\n\u001b[0m\u001b[1;32m      3\u001b[0m \u001b[0mdf_train_sj_x\u001b[0m \u001b[0;34m=\u001b[0m \u001b[0mdf_train_sj\u001b[0m\u001b[0;34m.\u001b[0m\u001b[0mdrop\u001b[0m\u001b[0;34m(\u001b[0m\u001b[0mcolumns\u001b[0m\u001b[0;34m=\u001b[0m\u001b[0;34m[\u001b[0m\u001b[0;34m'city'\u001b[0m\u001b[0;34m,\u001b[0m\u001b[0;34m'year'\u001b[0m\u001b[0;34m,\u001b[0m\u001b[0;34m'weekofyear'\u001b[0m\u001b[0;34m,\u001b[0m\u001b[0;34m'week_start_date'\u001b[0m\u001b[0;34m,\u001b[0m\u001b[0;34m'total_cases'\u001b[0m\u001b[0;34m]\u001b[0m\u001b[0;34m)\u001b[0m\u001b[0;34m.\u001b[0m\u001b[0mvalues\u001b[0m\u001b[0;34m\u001b[0m\u001b[0m\n\u001b[1;32m      4\u001b[0m \u001b[0mdf_test_sj_x\u001b[0m \u001b[0;34m=\u001b[0m \u001b[0mdf_test_sj\u001b[0m\u001b[0;34m.\u001b[0m\u001b[0mdrop\u001b[0m\u001b[0;34m(\u001b[0m\u001b[0mcolumns\u001b[0m\u001b[0;34m=\u001b[0m\u001b[0;34m[\u001b[0m\u001b[0;34m'city'\u001b[0m\u001b[0;34m,\u001b[0m\u001b[0;34m'year'\u001b[0m\u001b[0;34m,\u001b[0m\u001b[0;34m'weekofyear'\u001b[0m\u001b[0;34m,\u001b[0m\u001b[0;34m'week_start_date'\u001b[0m\u001b[0;34m]\u001b[0m\u001b[0;34m)\u001b[0m\u001b[0;31m#.values\u001b[0m\u001b[0;34m\u001b[0m\u001b[0m\n",
      "\u001b[0;31mNameError\u001b[0m: name 'df_train_sj' is not defined"
     ]
    }
   ],
   "source": [
    "# San Juan\n",
    "df_train_sj_y = df_train_sj[['total_cases']].values\n",
    "df_train_sj_x = df_train_sj.drop(columns=['city','year','weekofyear','week_start_date','total_cases']).values\n",
    "df_test_sj_x = df_test_sj.drop(columns=['city','year','weekofyear','week_start_date'])#.values"
   ]
  },
  {
   "cell_type": "code",
   "execution_count": 134,
   "metadata": {},
   "outputs": [],
   "source": [
    "# Split train data into train and validation sets\n",
    "test_size = 0.2\n",
    "\n",
    "#San Juan\n",
    "df_train_sj_x, df_val_sj_x, df_train_sj_y, df_val_sj_y = train_test_split(df_train_sj_x, df_train_sj_y, test_size=test_size, shuffle=False)"
   ]
  },
  {
   "cell_type": "code",
   "execution_count": 85,
   "metadata": {},
   "outputs": [
    {
     "data": {
      "text/plain": [
       "(746, 11)"
      ]
     },
     "execution_count": 85,
     "metadata": {},
     "output_type": "execute_result"
    }
   ],
   "source": [
    "df_train_sj_x.shape"
   ]
  },
  {
   "cell_type": "code",
   "execution_count": 86,
   "metadata": {},
   "outputs": [
    {
     "data": {
      "text/plain": [
       "(746, 1)"
      ]
     },
     "execution_count": 86,
     "metadata": {},
     "output_type": "execute_result"
    }
   ],
   "source": [
    "df_train_sj_y.shape"
   ]
  },
  {
   "cell_type": "code",
   "execution_count": 87,
   "metadata": {},
   "outputs": [
    {
     "data": {
      "text/plain": [
       "(187, 11)"
      ]
     },
     "execution_count": 87,
     "metadata": {},
     "output_type": "execute_result"
    }
   ],
   "source": [
    "df_val_sj_x.shape"
   ]
  },
  {
   "cell_type": "code",
   "execution_count": 88,
   "metadata": {},
   "outputs": [
    {
     "data": {
      "text/plain": [
       "(187, 1)"
      ]
     },
     "execution_count": 88,
     "metadata": {},
     "output_type": "execute_result"
    }
   ],
   "source": [
    "df_val_sj_y.shape"
   ]
  },
  {
   "cell_type": "markdown",
   "metadata": {},
   "source": [
    "**Prepare Data**<br>\n",
    "The data must be prepared before we can use it to train an LSTM and transformed appropriately in order to be fed to the Neral Network.\n",
    "\n",
    "Specifically, two additional changes are required:\n",
    " \n",
    "- Scale. The scale of the data must be reduced to values between -1 and 1, the activation function of the LSTM units\n",
    "- Differentiate. Create lagged features to the data, since in a time series problems, we have to predict a value at time T, based on the data from days T-N where N can be any number of steps\n",
    "- Create a tridimentional matrix, which is the format accepted from the LSTM as data input<br>\n",
    "\n",
    "[https://stackabuse.com/time-series-analysis-with-lstm-using-pythons-keras-library/]"
   ]
  },
  {
   "cell_type": "markdown",
   "metadata": {},
   "source": [
    "Data normalization with `MinMaxScaler` function from the `sklearn.preprocessing` library to scale the data between 0 and 1"
   ]
  },
  {
   "cell_type": "code",
   "execution_count": 135,
   "metadata": {},
   "outputs": [],
   "source": [
    "scaler = MinMaxScaler(feature_range = (0, 1))\n",
    "df_train_sj_x = scaler.fit_transform(df_train_sj_x)\n",
    "df_val_sj_x = scaler.fit_transform(df_val_sj_x)"
   ]
  },
  {
   "cell_type": "markdown",
   "metadata": {},
   "source": [
    "Creating lagged features, timesteps = 10 (weeks)"
   ]
  },
  {
   "cell_type": "code",
   "execution_count": 136,
   "metadata": {},
   "outputs": [],
   "source": [
    "def lagged_df(data, lag):\n",
    "    df = pd.DataFrame(data)\n",
    "    columns = [df.shift(i) for i in reversed(range(1, lag))]\n",
    "    columns.append(df)\n",
    "    df = pd.concat(columns, axis=1)\n",
    "    df.fillna(0, inplace=True)\n",
    "    return df"
   ]
  },
  {
   "cell_type": "code",
   "execution_count": 137,
   "metadata": {},
   "outputs": [],
   "source": [
    "df_train_sj_x = lagged_df(df_train_sj_x,10)\n",
    "df_val_sj_x = lagged_df(df_val_sj_x,10)"
   ]
  },
  {
   "cell_type": "code",
   "execution_count": 138,
   "metadata": {},
   "outputs": [
    {
     "data": {
      "text/plain": [
       "110"
      ]
     },
     "execution_count": 138,
     "metadata": {},
     "output_type": "execute_result"
    }
   ],
   "source": [
    "df_train_sj_x.shape[1]"
   ]
  },
  {
   "cell_type": "code",
   "execution_count": 139,
   "metadata": {},
   "outputs": [
    {
     "data": {
      "text/plain": [
       "110"
      ]
     },
     "execution_count": 139,
     "metadata": {},
     "output_type": "execute_result"
    }
   ],
   "source": [
    "df_val_sj_x.shape[1]"
   ]
  },
  {
   "cell_type": "markdown",
   "metadata": {},
   "source": [
    "In order to train LSTM on our data, we need to convert data into the shape accepted by the LSTM. I need to convert our data into three-dimensional format. The first dimension is the number of records or rows in the dataset. The second dimension is the number of time steps which is 10, while the last dimension is the number of indicators"
   ]
  },
  {
   "cell_type": "code",
   "execution_count": 140,
   "metadata": {},
   "outputs": [],
   "source": [
    "df_train_sj_x = np.array(df_train_sj_x)\n",
    "df_val_sj_x = np.array(df_val_sj_x)\n",
    "\n",
    "df_train_sj_x = np.reshape(df_train_sj_x, (df_train_sj_x.shape[0], 10, 11))\n",
    "df_val_sj_x = np.reshape(df_val_sj_x, (df_val_sj_x.shape[0], 10, 11))"
   ]
  },
  {
   "cell_type": "markdown",
   "metadata": {},
   "source": [
    "**Train the LSTM**<br>\n",
    "As a first step, I need to instantiate the Sequential class"
   ]
  },
  {
   "cell_type": "code",
   "execution_count": 1,
   "metadata": {},
   "outputs": [
    {
     "ename": "NameError",
     "evalue": "name 'Sequential' is not defined",
     "output_type": "error",
     "traceback": [
      "\u001b[0;31m\u001b[0m",
      "\u001b[0;31mNameError\u001b[0mTraceback (most recent call last)",
      "\u001b[0;32m<ipython-input-1-82ef346ff754>\u001b[0m in \u001b[0;36m<module>\u001b[0;34m()\u001b[0m\n\u001b[0;32m----> 1\u001b[0;31m \u001b[0mmodel\u001b[0m \u001b[0;34m=\u001b[0m \u001b[0mSequential\u001b[0m\u001b[0;34m(\u001b[0m\u001b[0;34m)\u001b[0m\u001b[0;34m\u001b[0m\u001b[0m\n\u001b[0m",
      "\u001b[0;31mNameError\u001b[0m: name 'Sequential' is not defined"
     ]
    }
   ],
   "source": [
    "model = Sequential()"
   ]
  },
  {
   "cell_type": "markdown",
   "metadata": {},
   "source": [
    "Adding LSTM layer to the model that I just created"
   ]
  },
  {
   "cell_type": "code",
   "execution_count": null,
   "metadata": {},
   "outputs": [],
   "source": [
    "model.add(LSTM(units=1000, return_sequences=True, input_shape=(10, 11)))"
   ]
  },
  {
   "cell_type": "markdown",
   "metadata": {},
   "source": [
    "Adding a dropout layer to the model, to avoid over-fitting"
   ]
  },
  {
   "cell_type": "code",
   "execution_count": 150,
   "metadata": {},
   "outputs": [],
   "source": [
    "model.add(Dropout(0.2))\n",
    "model.add(LSTM(units=100, return_sequences=True))\n",
    "model.add(Dropout(0.2))\n",
    "\n",
    "model.add(LSTM(units=100, return_sequences=True))\n",
    "model.add(Dropout(0.2))\n",
    "\n",
    "model.add(LSTM(units=100))\n",
    "model.add(Dropout(0.2))"
   ]
  },
  {
   "cell_type": "markdown",
   "metadata": {},
   "source": [
    "To make our model more robust, I add a dense layer at the end of the model. The number of neurons in the dense layer will be set to 1 since I want to predict a single value in the output."
   ]
  },
  {
   "cell_type": "code",
   "execution_count": 151,
   "metadata": {},
   "outputs": [],
   "source": [
    "model.add(Dense(units = 1))"
   ]
  },
  {
   "cell_type": "markdown",
   "metadata": {},
   "source": [
    "It's time to compile the LSTM before training it on the training data. I use the MAE as loss function and to reduce the loss or to optimize the algorithm, we use the _adam optimizer_"
   ]
  },
  {
   "cell_type": "code",
   "execution_count": 152,
   "metadata": {},
   "outputs": [],
   "source": [
    "model.compile(optimizer = 'adam', loss = 'mean_squared_error', metrics = ['mean_absolute_error'])"
   ]
  },
  {
   "cell_type": "code",
   "execution_count": 153,
   "metadata": {},
   "outputs": [
    {
     "name": "stdout",
     "output_type": "stream",
     "text": [
      "Model: \"sequential_6\"\n",
      "_________________________________________________________________\n",
      "Layer (type)                 Output Shape              Param #   \n",
      "=================================================================\n",
      "lstm_23 (LSTM)               (None, 10, 100)           44800     \n",
      "_________________________________________________________________\n",
      "dropout_22 (Dropout)         (None, 10, 100)           0         \n",
      "_________________________________________________________________\n",
      "lstm_24 (LSTM)               (None, 10, 5)             2120      \n",
      "_________________________________________________________________\n",
      "dropout_23 (Dropout)         (None, 10, 5)             0         \n",
      "_________________________________________________________________\n",
      "lstm_25 (LSTM)               (None, 10, 5)             220       \n",
      "_________________________________________________________________\n",
      "dropout_24 (Dropout)         (None, 10, 5)             0         \n",
      "_________________________________________________________________\n",
      "lstm_26 (LSTM)               (None, 5)                 220       \n",
      "_________________________________________________________________\n",
      "dropout_25 (Dropout)         (None, 5)                 0         \n",
      "_________________________________________________________________\n",
      "dense_5 (Dense)              (None, 1)                 6         \n",
      "=================================================================\n",
      "Total params: 47,366\n",
      "Trainable params: 47,366\n",
      "Non-trainable params: 0\n",
      "_________________________________________________________________\n"
     ]
    }
   ],
   "source": [
    "model.summary()"
   ]
  },
  {
   "cell_type": "markdown",
   "metadata": {},
   "source": [
    "Time to train the model"
   ]
  },
  {
   "cell_type": "code",
   "execution_count": 154,
   "metadata": {},
   "outputs": [
    {
     "name": "stdout",
     "output_type": "stream",
     "text": [
      "Train on 746 samples, validate on 187 samples\n",
      "Epoch 1/100\n",
      "746/746 [==============================] - 2s 3ms/step - loss: 4366.1528 - mean_absolute_error: 36.4929 - val_loss: 1583.7791 - val_mean_absolute_error: 24.6746\n",
      "Epoch 2/100\n",
      "746/746 [==============================] - 0s 189us/step - loss: 4363.3726 - mean_absolute_error: 36.4572 - val_loss: 1581.5610 - val_mean_absolute_error: 24.6342\n",
      "Epoch 3/100\n",
      "746/746 [==============================] - 0s 189us/step - loss: 4360.3652 - mean_absolute_error: 36.4153 - val_loss: 1579.4885 - val_mean_absolute_error: 24.5952\n",
      "Epoch 4/100\n",
      "746/746 [==============================] - 0s 188us/step - loss: 4356.0713 - mean_absolute_error: 36.3684 - val_loss: 1577.5901 - val_mean_absolute_error: 24.5585\n",
      "Epoch 5/100\n",
      "746/746 [==============================] - 0s 192us/step - loss: 4354.8765 - mean_absolute_error: 36.3384 - val_loss: 1575.8506 - val_mean_absolute_error: 24.5243\n",
      "Epoch 6/100\n",
      "746/746 [==============================] - 0s 194us/step - loss: 4351.2754 - mean_absolute_error: 36.3023 - val_loss: 1574.2358 - val_mean_absolute_error: 24.4920\n",
      "Epoch 7/100\n",
      "746/746 [==============================] - 0s 189us/step - loss: 4349.2148 - mean_absolute_error: 36.2778 - val_loss: 1572.7224 - val_mean_absolute_error: 24.4614\n",
      "Epoch 8/100\n",
      "746/746 [==============================] - 0s 190us/step - loss: 4347.9468 - mean_absolute_error: 36.2499 - val_loss: 1571.2933 - val_mean_absolute_error: 24.4322\n",
      "Epoch 9/100\n",
      "746/746 [==============================] - 0s 187us/step - loss: 4345.1709 - mean_absolute_error: 36.2126 - val_loss: 1569.9268 - val_mean_absolute_error: 24.4041\n",
      "Epoch 10/100\n",
      "746/746 [==============================] - 0s 188us/step - loss: 4344.7598 - mean_absolute_error: 36.1950 - val_loss: 1568.6124 - val_mean_absolute_error: 24.3769\n",
      "Epoch 11/100\n",
      "746/746 [==============================] - 0s 189us/step - loss: 4341.8115 - mean_absolute_error: 36.1707 - val_loss: 1567.3380 - val_mean_absolute_error: 24.3504\n",
      "Epoch 12/100\n",
      "746/746 [==============================] - 0s 188us/step - loss: 4339.9116 - mean_absolute_error: 36.1450 - val_loss: 1566.0936 - val_mean_absolute_error: 24.3245\n",
      "Epoch 13/100\n",
      "746/746 [==============================] - 0s 193us/step - loss: 4337.7471 - mean_absolute_error: 36.1096 - val_loss: 1564.8754 - val_mean_absolute_error: 24.2990\n",
      "Epoch 14/100\n",
      "746/746 [==============================] - 0s 188us/step - loss: 4335.5293 - mean_absolute_error: 36.0811 - val_loss: 1563.6786 - val_mean_absolute_error: 24.2738\n",
      "Epoch 15/100\n",
      "746/746 [==============================] - 0s 189us/step - loss: 4333.7344 - mean_absolute_error: 36.0679 - val_loss: 1562.5045 - val_mean_absolute_error: 24.2491\n",
      "Epoch 16/100\n",
      "746/746 [==============================] - 0s 188us/step - loss: 4332.0435 - mean_absolute_error: 36.0416 - val_loss: 1561.3514 - val_mean_absolute_error: 24.2247\n",
      "Epoch 17/100\n",
      "746/746 [==============================] - 0s 188us/step - loss: 4329.8521 - mean_absolute_error: 36.0143 - val_loss: 1560.2184 - val_mean_absolute_error: 24.2006\n",
      "Epoch 18/100\n",
      "746/746 [==============================] - 0s 192us/step - loss: 4330.4526 - mean_absolute_error: 35.9985 - val_loss: 1559.1058 - val_mean_absolute_error: 24.1770\n",
      "Epoch 19/100\n",
      "746/746 [==============================] - 0s 190us/step - loss: 4326.7041 - mean_absolute_error: 35.9626 - val_loss: 1558.0103 - val_mean_absolute_error: 24.1537\n",
      "Epoch 20/100\n",
      "746/746 [==============================] - 0s 187us/step - loss: 4325.2334 - mean_absolute_error: 35.9471 - val_loss: 1556.9302 - val_mean_absolute_error: 24.1307\n",
      "Epoch 21/100\n",
      "746/746 [==============================] - 0s 187us/step - loss: 4323.7793 - mean_absolute_error: 35.9242 - val_loss: 1555.8622 - val_mean_absolute_error: 24.1081\n",
      "Epoch 22/100\n",
      "746/746 [==============================] - 0s 186us/step - loss: 4323.7305 - mean_absolute_error: 35.9179 - val_loss: 1554.8063 - val_mean_absolute_error: 24.0857\n",
      "Epoch 23/100\n",
      "746/746 [==============================] - 0s 188us/step - loss: 4321.5693 - mean_absolute_error: 35.8857 - val_loss: 1553.7604 - val_mean_absolute_error: 24.0636\n",
      "Epoch 24/100\n",
      "746/746 [==============================] - 0s 190us/step - loss: 4319.5688 - mean_absolute_error: 35.8686 - val_loss: 1552.7220 - val_mean_absolute_error: 24.0416\n",
      "Epoch 25/100\n",
      "746/746 [==============================] - 0s 190us/step - loss: 4319.1099 - mean_absolute_error: 35.8444 - val_loss: 1551.6912 - val_mean_absolute_error: 24.0199\n",
      "Epoch 26/100\n",
      "746/746 [==============================] - 0s 188us/step - loss: 4318.2920 - mean_absolute_error: 35.8279 - val_loss: 1550.6694 - val_mean_absolute_error: 23.9984\n",
      "Epoch 27/100\n",
      "746/746 [==============================] - 0s 187us/step - loss: 4315.0508 - mean_absolute_error: 35.8068 - val_loss: 1549.6558 - val_mean_absolute_error: 23.9770\n",
      "Epoch 28/100\n",
      "746/746 [==============================] - 0s 186us/step - loss: 4313.4756 - mean_absolute_error: 35.7649 - val_loss: 1548.6494 - val_mean_absolute_error: 23.9558\n",
      "Epoch 29/100\n",
      "746/746 [==============================] - 0s 185us/step - loss: 4313.1201 - mean_absolute_error: 35.7584 - val_loss: 1547.6526 - val_mean_absolute_error: 23.9348\n",
      "Epoch 30/100\n",
      "746/746 [==============================] - 0s 186us/step - loss: 4311.8223 - mean_absolute_error: 35.7579 - val_loss: 1546.6654 - val_mean_absolute_error: 23.9140\n",
      "Epoch 31/100\n",
      "746/746 [==============================] - 0s 186us/step - loss: 4311.3218 - mean_absolute_error: 35.7225 - val_loss: 1545.6887 - val_mean_absolute_error: 23.8934\n",
      "Epoch 32/100\n",
      "746/746 [==============================] - 0s 184us/step - loss: 4308.2573 - mean_absolute_error: 35.7033 - val_loss: 1544.7183 - val_mean_absolute_error: 23.8730\n",
      "Epoch 33/100\n",
      "746/746 [==============================] - 0s 188us/step - loss: 4307.3145 - mean_absolute_error: 35.6814 - val_loss: 1543.7545 - val_mean_absolute_error: 23.8527\n",
      "Epoch 34/100\n",
      "746/746 [==============================] - 0s 186us/step - loss: 4308.1084 - mean_absolute_error: 35.6659 - val_loss: 1542.7972 - val_mean_absolute_error: 23.8325\n",
      "Epoch 35/100\n",
      "746/746 [==============================] - 0s 188us/step - loss: 4303.6997 - mean_absolute_error: 35.6432 - val_loss: 1541.8416 - val_mean_absolute_error: 23.8123\n",
      "Epoch 36/100\n",
      "746/746 [==============================] - 0s 187us/step - loss: 4301.6919 - mean_absolute_error: 35.6004 - val_loss: 1540.8859 - val_mean_absolute_error: 23.7922\n",
      "Epoch 37/100\n",
      "746/746 [==============================] - 0s 186us/step - loss: 4302.1831 - mean_absolute_error: 35.6137 - val_loss: 1539.9305 - val_mean_absolute_error: 23.7722\n",
      "Epoch 38/100\n",
      "746/746 [==============================] - 0s 190us/step - loss: 4301.9517 - mean_absolute_error: 35.5853 - val_loss: 1538.9745 - val_mean_absolute_error: 23.7526\n",
      "Epoch 39/100\n",
      "746/746 [==============================] - 0s 189us/step - loss: 4295.4302 - mean_absolute_error: 35.5589 - val_loss: 1538.0127 - val_mean_absolute_error: 23.7336\n",
      "Epoch 40/100\n",
      "746/746 [==============================] - 0s 189us/step - loss: 4297.2944 - mean_absolute_error: 35.5206 - val_loss: 1537.0479 - val_mean_absolute_error: 23.7146\n",
      "Epoch 41/100\n",
      "746/746 [==============================] - 0s 192us/step - loss: 4295.6533 - mean_absolute_error: 35.5240 - val_loss: 1536.0778 - val_mean_absolute_error: 23.6955\n",
      "Epoch 42/100\n",
      "746/746 [==============================] - 0s 188us/step - loss: 4291.8687 - mean_absolute_error: 35.4919 - val_loss: 1535.1016 - val_mean_absolute_error: 23.6763\n",
      "Epoch 43/100\n",
      "746/746 [==============================] - 0s 189us/step - loss: 4293.8452 - mean_absolute_error: 35.4900 - val_loss: 1534.1212 - val_mean_absolute_error: 23.6570\n",
      "Epoch 44/100\n",
      "746/746 [==============================] - 0s 189us/step - loss: 4292.2178 - mean_absolute_error: 35.4604 - val_loss: 1533.1362 - val_mean_absolute_error: 23.6375\n",
      "Epoch 45/100\n",
      "746/746 [==============================] - 0s 189us/step - loss: 4294.3555 - mean_absolute_error: 35.4662 - val_loss: 1532.1476 - val_mean_absolute_error: 23.6180\n",
      "Epoch 46/100\n",
      "746/746 [==============================] - 0s 186us/step - loss: 4289.4644 - mean_absolute_error: 35.4470 - val_loss: 1531.1514 - val_mean_absolute_error: 23.5984\n",
      "Epoch 47/100\n",
      "746/746 [==============================] - 0s 188us/step - loss: 4288.4521 - mean_absolute_error: 35.4125 - val_loss: 1530.1487 - val_mean_absolute_error: 23.5786\n",
      "Epoch 48/100\n",
      "746/746 [==============================] - 0s 189us/step - loss: 4287.9233 - mean_absolute_error: 35.4059 - val_loss: 1529.1403 - val_mean_absolute_error: 23.5587\n",
      "Epoch 49/100\n",
      "746/746 [==============================] - 0s 189us/step - loss: 4283.3945 - mean_absolute_error: 35.3510 - val_loss: 1528.1230 - val_mean_absolute_error: 23.5386\n",
      "Epoch 50/100\n",
      "746/746 [==============================] - 0s 189us/step - loss: 4280.5884 - mean_absolute_error: 35.3269 - val_loss: 1527.0959 - val_mean_absolute_error: 23.5183\n",
      "Epoch 51/100\n",
      "746/746 [==============================] - 0s 192us/step - loss: 4279.6929 - mean_absolute_error: 35.3079 - val_loss: 1526.0593 - val_mean_absolute_error: 23.4978\n",
      "Epoch 52/100\n",
      "746/746 [==============================] - 0s 189us/step - loss: 4282.0312 - mean_absolute_error: 35.3082 - val_loss: 1525.0162 - val_mean_absolute_error: 23.4771\n",
      "Epoch 53/100\n",
      "746/746 [==============================] - 0s 188us/step - loss: 4278.6909 - mean_absolute_error: 35.2685 - val_loss: 1523.9657 - val_mean_absolute_error: 23.4563\n",
      "Epoch 54/100\n",
      "746/746 [==============================] - 0s 188us/step - loss: 4279.0293 - mean_absolute_error: 35.2412 - val_loss: 1522.9089 - val_mean_absolute_error: 23.4353\n",
      "Epoch 55/100\n",
      "746/746 [==============================] - 0s 188us/step - loss: 4273.5005 - mean_absolute_error: 35.2242 - val_loss: 1521.8424 - val_mean_absolute_error: 23.4142\n",
      "Epoch 56/100\n",
      "746/746 [==============================] - 0s 188us/step - loss: 4272.1055 - mean_absolute_error: 35.1957 - val_loss: 1520.7676 - val_mean_absolute_error: 23.3928\n",
      "Epoch 57/100\n",
      "746/746 [==============================] - 0s 186us/step - loss: 4272.7573 - mean_absolute_error: 35.1861 - val_loss: 1519.6848 - val_mean_absolute_error: 23.3713\n",
      "Epoch 58/100\n",
      "746/746 [==============================] - 0s 187us/step - loss: 4272.6406 - mean_absolute_error: 35.1800 - val_loss: 1518.5959 - val_mean_absolute_error: 23.3497\n",
      "Epoch 59/100\n",
      "746/746 [==============================] - 0s 185us/step - loss: 4267.1587 - mean_absolute_error: 35.1471 - val_loss: 1517.4985 - val_mean_absolute_error: 23.3278\n",
      "Epoch 60/100\n",
      "746/746 [==============================] - 0s 188us/step - loss: 4265.5405 - mean_absolute_error: 35.1164 - val_loss: 1516.3927 - val_mean_absolute_error: 23.3058\n",
      "Epoch 61/100\n",
      "746/746 [==============================] - 0s 187us/step - loss: 4268.2612 - mean_absolute_error: 35.0853 - val_loss: 1515.2832 - val_mean_absolute_error: 23.2836\n",
      "Epoch 62/100\n",
      "746/746 [==============================] - 0s 188us/step - loss: 4263.3647 - mean_absolute_error: 35.0630 - val_loss: 1514.1672 - val_mean_absolute_error: 23.2613\n",
      "Epoch 63/100\n",
      "746/746 [==============================] - 0s 188us/step - loss: 4261.2642 - mean_absolute_error: 35.0544 - val_loss: 1513.0452 - val_mean_absolute_error: 23.2389\n",
      "Epoch 64/100\n",
      "746/746 [==============================] - 0s 191us/step - loss: 4260.5176 - mean_absolute_error: 35.0234 - val_loss: 1511.9186 - val_mean_absolute_error: 23.2164\n",
      "Epoch 65/100\n",
      "746/746 [==============================] - 0s 189us/step - loss: 4257.2251 - mean_absolute_error: 35.0052 - val_loss: 1510.7872 - val_mean_absolute_error: 23.1937\n",
      "Epoch 66/100\n",
      "746/746 [==============================] - 0s 187us/step - loss: 4259.3662 - mean_absolute_error: 35.0097 - val_loss: 1509.6537 - val_mean_absolute_error: 23.1710\n",
      "Epoch 67/100\n",
      "746/746 [==============================] - 0s 186us/step - loss: 4253.8882 - mean_absolute_error: 34.9425 - val_loss: 1508.5166 - val_mean_absolute_error: 23.1482\n",
      "Epoch 68/100\n",
      "746/746 [==============================] - 0s 188us/step - loss: 4250.5811 - mean_absolute_error: 34.9211 - val_loss: 1507.3745 - val_mean_absolute_error: 23.1252\n",
      "Epoch 69/100\n",
      "746/746 [==============================] - 0s 188us/step - loss: 4251.8735 - mean_absolute_error: 34.8995 - val_loss: 1506.2318 - val_mean_absolute_error: 23.1023\n",
      "Epoch 70/100\n",
      "746/746 [==============================] - 0s 189us/step - loss: 4245.1934 - mean_absolute_error: 34.8600 - val_loss: 1505.0857 - val_mean_absolute_error: 23.0792\n",
      "Epoch 71/100\n",
      "746/746 [==============================] - 0s 191us/step - loss: 4249.2598 - mean_absolute_error: 34.8712 - val_loss: 1503.9413 - val_mean_absolute_error: 23.0561\n",
      "Epoch 72/100\n",
      "746/746 [==============================] - 0s 188us/step - loss: 4246.1074 - mean_absolute_error: 34.8465 - val_loss: 1502.7988 - val_mean_absolute_error: 23.0331\n",
      "Epoch 73/100\n",
      "746/746 [==============================] - 0s 188us/step - loss: 4242.2925 - mean_absolute_error: 34.7916 - val_loss: 1501.6562 - val_mean_absolute_error: 23.0100\n",
      "Epoch 74/100\n",
      "746/746 [==============================] - 0s 187us/step - loss: 4243.2300 - mean_absolute_error: 34.7823 - val_loss: 1500.5173 - val_mean_absolute_error: 22.9869\n",
      "Epoch 75/100\n",
      "746/746 [==============================] - 0s 186us/step - loss: 4240.0503 - mean_absolute_error: 34.7592 - val_loss: 1499.3812 - val_mean_absolute_error: 22.9639\n",
      "Epoch 76/100\n",
      "746/746 [==============================] - 0s 188us/step - loss: 4237.4229 - mean_absolute_error: 34.6919 - val_loss: 1498.2499 - val_mean_absolute_error: 22.9410\n",
      "Epoch 77/100\n",
      "746/746 [==============================] - 0s 187us/step - loss: 4235.0342 - mean_absolute_error: 34.7228 - val_loss: 1497.1233 - val_mean_absolute_error: 22.9181\n",
      "Epoch 78/100\n",
      "746/746 [==============================] - 0s 186us/step - loss: 4232.4897 - mean_absolute_error: 34.6980 - val_loss: 1496.0010 - val_mean_absolute_error: 22.8953\n",
      "Epoch 79/100\n",
      "746/746 [==============================] - 0s 186us/step - loss: 4230.9683 - mean_absolute_error: 34.6409 - val_loss: 1494.8853 - val_mean_absolute_error: 22.8726\n",
      "Epoch 80/100\n",
      "746/746 [==============================] - 0s 190us/step - loss: 4230.8218 - mean_absolute_error: 34.6527 - val_loss: 1493.7780 - val_mean_absolute_error: 22.8500\n",
      "Epoch 81/100\n",
      "746/746 [==============================] - 0s 186us/step - loss: 4231.6733 - mean_absolute_error: 34.6528 - val_loss: 1492.6807 - val_mean_absolute_error: 22.8286\n",
      "Epoch 82/100\n",
      "746/746 [==============================] - 0s 189us/step - loss: 4228.4014 - mean_absolute_error: 34.5936 - val_loss: 1491.5929 - val_mean_absolute_error: 22.8074\n",
      "Epoch 83/100\n",
      "746/746 [==============================] - 0s 189us/step - loss: 4233.0078 - mean_absolute_error: 34.5914 - val_loss: 1490.5184 - val_mean_absolute_error: 22.7865\n",
      "Epoch 84/100\n",
      "746/746 [==============================] - 0s 188us/step - loss: 4224.8193 - mean_absolute_error: 34.5300 - val_loss: 1489.4547 - val_mean_absolute_error: 22.7657\n",
      "Epoch 85/100\n",
      "746/746 [==============================] - 0s 188us/step - loss: 4219.5229 - mean_absolute_error: 34.5119 - val_loss: 1488.4014 - val_mean_absolute_error: 22.7451\n",
      "Epoch 86/100\n",
      "746/746 [==============================] - 0s 187us/step - loss: 4225.4321 - mean_absolute_error: 34.5086 - val_loss: 1487.3615 - val_mean_absolute_error: 22.7248\n",
      "Epoch 87/100\n",
      "746/746 [==============================] - 0s 188us/step - loss: 4219.9346 - mean_absolute_error: 34.4720 - val_loss: 1486.3335 - val_mean_absolute_error: 22.7046\n",
      "Epoch 88/100\n",
      "746/746 [==============================] - 0s 189us/step - loss: 4217.8286 - mean_absolute_error: 34.4778 - val_loss: 1485.3176 - val_mean_absolute_error: 22.6847\n",
      "Epoch 89/100\n",
      "746/746 [==============================] - 0s 188us/step - loss: 4222.2124 - mean_absolute_error: 34.4702 - val_loss: 1484.3171 - val_mean_absolute_error: 22.6650\n",
      "Epoch 90/100\n",
      "746/746 [==============================] - 0s 187us/step - loss: 4221.0894 - mean_absolute_error: 34.4723 - val_loss: 1483.3325 - val_mean_absolute_error: 22.6457\n",
      "Epoch 91/100\n",
      "746/746 [==============================] - 0s 188us/step - loss: 4216.4136 - mean_absolute_error: 34.4146 - val_loss: 1482.3615 - val_mean_absolute_error: 22.6266\n",
      "Epoch 92/100\n",
      "746/746 [==============================] - 0s 189us/step - loss: 4213.2173 - mean_absolute_error: 34.3789 - val_loss: 1481.4037 - val_mean_absolute_error: 22.6077\n",
      "Epoch 93/100\n",
      "746/746 [==============================] - 0s 188us/step - loss: 4216.3901 - mean_absolute_error: 34.3593 - val_loss: 1480.4609 - val_mean_absolute_error: 22.5891\n",
      "Epoch 94/100\n",
      "746/746 [==============================] - 0s 189us/step - loss: 4214.0322 - mean_absolute_error: 34.3655 - val_loss: 1479.5317 - val_mean_absolute_error: 22.5708\n",
      "Epoch 95/100\n",
      "746/746 [==============================] - 0s 192us/step - loss: 4204.6670 - mean_absolute_error: 34.3127 - val_loss: 1478.6141 - val_mean_absolute_error: 22.5526\n",
      "Epoch 96/100\n",
      "746/746 [==============================] - 0s 191us/step - loss: 4203.9141 - mean_absolute_error: 34.2973 - val_loss: 1477.7073 - val_mean_absolute_error: 22.5347\n",
      "Epoch 97/100\n",
      "746/746 [==============================] - 0s 191us/step - loss: 4203.5898 - mean_absolute_error: 34.2705 - val_loss: 1476.8134 - val_mean_absolute_error: 22.5170\n",
      "Epoch 98/100\n",
      "746/746 [==============================] - 0s 189us/step - loss: 4207.4043 - mean_absolute_error: 34.2721 - val_loss: 1475.9330 - val_mean_absolute_error: 22.4996\n",
      "Epoch 99/100\n",
      "746/746 [==============================] - 0s 189us/step - loss: 4198.7690 - mean_absolute_error: 34.2195 - val_loss: 1475.0640 - val_mean_absolute_error: 22.4823\n",
      "Epoch 100/100\n",
      "746/746 [==============================] - 0s 189us/step - loss: 4202.4160 - mean_absolute_error: 34.1979 - val_loss: 1474.2085 - val_mean_absolute_error: 22.4654\n"
     ]
    }
   ],
   "source": [
    "lstm = model.fit(df_train_sj_x,df_train_sj_y,validation_data = (df_val_sj_x,df_val_sj_y), epochs = 100, batch_size = 8192*5)"
   ]
  },
  {
   "cell_type": "code",
   "execution_count": 155,
   "metadata": {},
   "outputs": [
    {
     "data": {
      "image/png": "[encoded data removed]",
      "text/plain": [
       "<Figure size 800x400 with 1 Axes>"
      ]
     },
     "metadata": {},
     "output_type": "display_data"
    }
   ],
   "source": [
    "plt.figure(figsize=(10, 5), dpi= 80, facecolor='w', edgecolor='k')\n",
    "\n",
    "# Loss Train / Val\n",
    "plt.plot(lstm.history['loss'])\n",
    "plt.plot(lstm.history['val_loss'])\n",
    "plt.title('model loss')\n",
    "plt.ylabel('loss')\n",
    "plt.xlabel('epoch')\n",
    "plt.legend(['train', 'validation'], loc='upper left')\n",
    "plt.show()"
   ]
  },
  {
   "cell_type": "code",
   "execution_count": null,
   "metadata": {},
   "outputs": [],
   "source": []
  },
  {
   "cell_type": "code",
   "execution_count": null,
   "metadata": {},
   "outputs": [],
   "source": []
  },
  {
   "cell_type": "markdown",
   "metadata": {},
   "source": [
    "**Prepare Data**<br>\n",
    "The data must be prepared before we can use it to train an LSTM and transformed from a series into a supervised learning problem.\n",
    "\n",
    "Specifically, two additional changes are required:\n",
    "\n",
    "- Stationary. The data shows an increasing trend that must be removed by differencing \n",
    "- Scale. The scale of the data must be reduced to values between -1 and 1, the activation function of the LSTM units.<br>\n",
    "\n",
    "We can introduce a function to make the data stationary called difference(). This will transform the series of values into a series of differences, a simpler representation to work with. [https://machinelearningmastery.com/multi-step-time-series-forecasting-long-short-term-memory-networks-python/]"
   ]
  },
  {
   "cell_type": "code",
   "execution_count": 113,
   "metadata": {},
   "outputs": [],
   "source": [
    "# create a differenced series\n",
    "def difference(dataset, interval=1):\n",
    "    diff = list()\n",
    "    for i in range(interval, len(dataset)):\n",
    "        value = dataset[i] - dataset[i - interval]\n",
    "        diff.append(value)\n",
    "    return pd.Series(diff)"
   ]
  },
  {
   "cell_type": "code",
   "execution_count": 114,
   "metadata": {},
   "outputs": [],
   "source": [
    "df_train_sj_x = difference(df_train_sj_x)\n",
    "df_test_sj_x = difference(df_test_sj_x)"
   ]
  },
  {
   "cell_type": "markdown",
   "metadata": {},
   "source": [
    "We can use the _MinMaxScaler_ from the `sklearn` library to scale the data."
   ]
  },
  {
   "cell_type": "code",
   "execution_count": 115,
   "metadata": {},
   "outputs": [],
   "source": [
    "# transform series into train and test sets for supervised learning\n",
    "def prepare_data(series, n_lag, n_seq):\n",
    "    # extract raw values\n",
    "    raw_values = series.values\n",
    "    # transform data to be stationary\n",
    "    diff_series = difference(raw_values, 1)\n",
    "    diff_values = diff_series.values\n",
    "    diff_values = diff_values.reshape(len(diff_values), 1)\n",
    "    # rescale values to -1, 1\n",
    "    scaler = MinMaxScaler(feature_range=(-1, 1))\n",
    "    scaled_values = scaler.fit_transform(diff_values)\n",
    "    scaled_values = scaled_values.reshape(len(scaled_values), 1)\n",
    "    # transform into supervised learning problem X, y\n",
    "    supervised = series_to_supervised(scaled_values, n_lag, n_seq)\n",
    "    supervised_values = supervised.values\n",
    "    return supervised_values"
   ]
  },
  {
   "cell_type": "code",
   "execution_count": 121,
   "metadata": {},
   "outputs": [
    {
     "name": "stderr",
     "output_type": "stream",
     "text": [
      "[autoreload of scipy.special failed: Traceback (most recent call last):\n",
      "  File \"/home/ec2-user/anaconda3/envs/amazonei_mxnet_p27/lib/python2.7/site-packages/IPython/extensions/autoreload.py\", line 247, in check\n",
      "    superreload(m, reload, self.old_objects)\n",
      "ImportError: cannot import name specfun\n",
      "]\n",
      "[autoreload of scipy.sparse.linalg.dsolve failed: Traceback (most recent call last):\n",
      "  File \"/home/ec2-user/anaconda3/envs/amazonei_mxnet_p27/lib/python2.7/site-packages/IPython/extensions/autoreload.py\", line 247, in check\n",
      "    superreload(m, reload, self.old_objects)\n",
      "ImportError: cannot import name _add_newdocs\n",
      "]\n",
      "[autoreload of scipy.cluster failed: Traceback (most recent call last):\n",
      "  File \"/home/ec2-user/anaconda3/envs/amazonei_mxnet_p27/lib/python2.7/site-packages/IPython/extensions/autoreload.py\", line 247, in check\n",
      "    superreload(m, reload, self.old_objects)\n",
      "ImportError: cannot import name vq\n",
      "]\n",
      "[autoreload of scipy.optimize.cobyla failed: Traceback (most recent call last):\n",
      "  File \"/home/ec2-user/anaconda3/envs/amazonei_mxnet_p27/lib/python2.7/site-packages/IPython/extensions/autoreload.py\", line 247, in check\n",
      "    superreload(m, reload, self.old_objects)\n",
      "ImportError: cannot import name _cobyla\n",
      "]\n",
      "[autoreload of scipy.optimize._shgo failed: Traceback (most recent call last):\n",
      "  File \"/home/ec2-user/anaconda3/envs/amazonei_mxnet_p27/lib/python2.7/site-packages/IPython/extensions/autoreload.py\", line 247, in check\n",
      "    superreload(m, reload, self.old_objects)\n",
      "ImportError: cannot import name sobol_seq\n",
      "]\n",
      "[autoreload of scipy.io.matlab failed: Traceback (most recent call last):\n",
      "  File \"/home/ec2-user/anaconda3/envs/amazonei_mxnet_p27/lib/python2.7/site-packages/IPython/extensions/autoreload.py\", line 247, in check\n",
      "    superreload(m, reload, self.old_objects)\n",
      "ImportError: cannot import name byteordercodes\n",
      "]\n",
      "[autoreload of scipy.optimize._lsq.least_squares failed: Traceback (most recent call last):\n",
      "  File \"/home/ec2-user/anaconda3/envs/amazonei_mxnet_p27/lib/python2.7/site-packages/IPython/extensions/autoreload.py\", line 247, in check\n",
      "    superreload(m, reload, self.old_objects)\n",
      "ImportError: cannot import name _minpack\n",
      "]\n",
      "[autoreload of scipy.integrate._ode failed: Traceback (most recent call last):\n",
      "  File \"/home/ec2-user/anaconda3/envs/amazonei_mxnet_p27/lib/python2.7/site-packages/IPython/extensions/autoreload.py\", line 247, in check\n",
      "    superreload(m, reload, self.old_objects)\n",
      "ImportError: cannot import name vode\n",
      "]\n",
      "[autoreload of scipy.optimize.zeros failed: Traceback (most recent call last):\n",
      "  File \"/home/ec2-user/anaconda3/envs/amazonei_mxnet_p27/lib/python2.7/site-packages/IPython/extensions/autoreload.py\", line 247, in check\n",
      "    superreload(m, reload, self.old_objects)\n",
      "ImportError: cannot import name _zeros\n",
      "]\n",
      "[autoreload of scipy.sparse failed: Traceback (most recent call last):\n",
      "  File \"/home/ec2-user/anaconda3/envs/amazonei_mxnet_p27/lib/python2.7/site-packages/IPython/extensions/autoreload.py\", line 247, in check\n",
      "    superreload(m, reload, self.old_objects)\n",
      "ImportError: cannot import name csgraph\n",
      "]\n",
      "[autoreload of scipy.stats failed: Traceback (most recent call last):\n",
      "  File \"/home/ec2-user/anaconda3/envs/amazonei_mxnet_p27/lib/python2.7/site-packages/IPython/extensions/autoreload.py\", line 247, in check\n",
      "    superreload(m, reload, self.old_objects)\n",
      "ImportError: cannot import name mstats\n",
      "]\n",
      "[autoreload of scipy.integrate.odepack failed: Traceback (most recent call last):\n",
      "  File \"/home/ec2-user/anaconda3/envs/amazonei_mxnet_p27/lib/python2.7/site-packages/IPython/extensions/autoreload.py\", line 247, in check\n",
      "    superreload(m, reload, self.old_objects)\n",
      "ImportError: cannot import name _odepack\n",
      "]\n",
      "[autoreload of scipy._lib._ccallback failed: Traceback (most recent call last):\n",
      "  File \"/home/ec2-user/anaconda3/envs/amazonei_mxnet_p27/lib/python2.7/site-packages/IPython/extensions/autoreload.py\", line 247, in check\n",
      "    superreload(m, reload, self.old_objects)\n",
      "ImportError: cannot import name _ccallback_c\n",
      "]\n",
      "[autoreload of scipy.optimize._root_scalar failed: Traceback (most recent call last):\n",
      "  File \"/home/ec2-user/anaconda3/envs/amazonei_mxnet_p27/lib/python2.7/site-packages/IPython/extensions/autoreload.py\", line 247, in check\n",
      "    superreload(m, reload, self.old_objects)\n",
      "ImportError: cannot import name zeros\n",
      "]\n",
      "[autoreload of scipy.misc failed: Traceback (most recent call last):\n",
      "  File \"/home/ec2-user/anaconda3/envs/amazonei_mxnet_p27/lib/python2.7/site-packages/IPython/extensions/autoreload.py\", line 247, in check\n",
      "    superreload(m, reload, self.old_objects)\n",
      "ImportError: cannot import name doccer\n",
      "]\n",
      "[autoreload of scipy.spatial failed: Traceback (most recent call last):\n",
      "  File \"/home/ec2-user/anaconda3/envs/amazonei_mxnet_p27/lib/python2.7/site-packages/IPython/extensions/autoreload.py\", line 247, in check\n",
      "    superreload(m, reload, self.old_objects)\n",
      "ImportError: cannot import name transform\n",
      "]\n",
      "[autoreload of scipy failed: Traceback (most recent call last):\n",
      "  File \"/home/ec2-user/anaconda3/envs/amazonei_mxnet_p27/lib/python2.7/site-packages/IPython/extensions/autoreload.py\", line 247, in check\n",
      "    superreload(m, reload, self.old_objects)\n",
      "ImportError: cannot import name _distributor_init\n",
      "]\n",
      "[autoreload of scipy.interpolate._bsplines failed: Traceback (most recent call last):\n",
      "  File \"/home/ec2-user/anaconda3/envs/amazonei_mxnet_p27/lib/python2.7/site-packages/IPython/extensions/autoreload.py\", line 247, in check\n",
      "    superreload(m, reload, self.old_objects)\n",
      "ImportError: cannot import name _bspl\n",
      "]\n",
      "[autoreload of scipy.optimize.nnls failed: Traceback (most recent call last):\n",
      "  File \"/home/ec2-user/anaconda3/envs/amazonei_mxnet_p27/lib/python2.7/site-packages/IPython/extensions/autoreload.py\", line 247, in check\n",
      "    superreload(m, reload, self.old_objects)\n",
      "ImportError: cannot import name _nnls\n",
      "]\n",
      "[autoreload of scipy.optimize.tnc failed: Traceback (most recent call last):\n",
      "  File \"/home/ec2-user/anaconda3/envs/amazonei_mxnet_p27/lib/python2.7/site-packages/IPython/extensions/autoreload.py\", line 247, in check\n",
      "    superreload(m, reload, self.old_objects)\n",
      "ImportError: cannot import name moduleTNC\n",
      "]\n",
      "[autoreload of scipy.sparse.linalg.isolve.iterative failed: Traceback (most recent call last):\n",
      "  File \"/home/ec2-user/anaconda3/envs/amazonei_mxnet_p27/lib/python2.7/site-packages/IPython/extensions/autoreload.py\", line 247, in check\n",
      "    superreload(m, reload, self.old_objects)\n",
      "ImportError: cannot import name _iterative\n",
      "]\n"
     ]
    },
    {
     "ename": "ValueError",
     "evalue": "setting an array element with a sequence.",
     "output_type": "error",
     "traceback": [
      "\u001b[0;31m\u001b[0m",
      "\u001b[0;31mValueError\u001b[0mTraceback (most recent call last)",
      "\u001b[0;32m<ipython-input-121-76b5bdfabd77>\u001b[0m in \u001b[0;36m<module>\u001b[0;34m()\u001b[0m\n\u001b[1;32m      1\u001b[0m \u001b[0;31m# prepare data\u001b[0m\u001b[0;34m\u001b[0m\u001b[0;34m\u001b[0m\u001b[0m\n\u001b[0;32m----> 2\u001b[0;31m \u001b[0mdf_train_sj_x\u001b[0m \u001b[0;34m=\u001b[0m \u001b[0mprepare_data\u001b[0m\u001b[0;34m(\u001b[0m\u001b[0mdf_train_sj_x\u001b[0m\u001b[0;34m,\u001b[0m \u001b[0;36m5\u001b[0m\u001b[0;34m,\u001b[0m \u001b[0;36m3\u001b[0m\u001b[0;34m)\u001b[0m\u001b[0;34m\u001b[0m\u001b[0m\n\u001b[0m",
      "\u001b[0;32m<ipython-input-115-3e7cf3b5bc5b>\u001b[0m in \u001b[0;36mprepare_data\u001b[0;34m(series, n_lag, n_seq)\u001b[0m\n\u001b[1;32m      9\u001b[0m     \u001b[0;31m# rescale values to -1, 1\u001b[0m\u001b[0;34m\u001b[0m\u001b[0;34m\u001b[0m\u001b[0m\n\u001b[1;32m     10\u001b[0m     \u001b[0mscaler\u001b[0m \u001b[0;34m=\u001b[0m \u001b[0mMinMaxScaler\u001b[0m\u001b[0;34m(\u001b[0m\u001b[0mfeature_range\u001b[0m\u001b[0;34m=\u001b[0m\u001b[0;34m(\u001b[0m\u001b[0;34m-\u001b[0m\u001b[0;36m1\u001b[0m\u001b[0;34m,\u001b[0m \u001b[0;36m1\u001b[0m\u001b[0;34m)\u001b[0m\u001b[0;34m)\u001b[0m\u001b[0;34m\u001b[0m\u001b[0m\n\u001b[0;32m---> 11\u001b[0;31m     \u001b[0mscaled_values\u001b[0m \u001b[0;34m=\u001b[0m \u001b[0mscaler\u001b[0m\u001b[0;34m.\u001b[0m\u001b[0mfit_transform\u001b[0m\u001b[0;34m(\u001b[0m\u001b[0mdiff_values\u001b[0m\u001b[0;34m)\u001b[0m\u001b[0;34m\u001b[0m\u001b[0m\n\u001b[0m\u001b[1;32m     12\u001b[0m     \u001b[0mscaled_values\u001b[0m \u001b[0;34m=\u001b[0m \u001b[0mscaled_values\u001b[0m\u001b[0;34m.\u001b[0m\u001b[0mreshape\u001b[0m\u001b[0;34m(\u001b[0m\u001b[0mlen\u001b[0m\u001b[0;34m(\u001b[0m\u001b[0mscaled_values\u001b[0m\u001b[0;34m)\u001b[0m\u001b[0;34m,\u001b[0m \u001b[0;36m1\u001b[0m\u001b[0;34m)\u001b[0m\u001b[0;34m\u001b[0m\u001b[0m\n\u001b[1;32m     13\u001b[0m     \u001b[0;31m# transform into supervised learning problem X, y\u001b[0m\u001b[0;34m\u001b[0m\u001b[0;34m\u001b[0m\u001b[0m\n",
      "\u001b[0;32m/home/ec2-user/anaconda3/envs/amazonei_mxnet_p27/lib/python2.7/site-packages/sklearn/base.pyc\u001b[0m in \u001b[0;36mfit_transform\u001b[0;34m(self, X, y, **fit_params)\u001b[0m\n\u001b[1;32m    462\u001b[0m         \u001b[0;32mif\u001b[0m \u001b[0my\u001b[0m \u001b[0;32mis\u001b[0m \u001b[0mNone\u001b[0m\u001b[0;34m:\u001b[0m\u001b[0;34m\u001b[0m\u001b[0m\n\u001b[1;32m    463\u001b[0m             \u001b[0;31m# fit method of arity 1 (unsupervised transformation)\u001b[0m\u001b[0;34m\u001b[0m\u001b[0;34m\u001b[0m\u001b[0m\n\u001b[0;32m--> 464\u001b[0;31m             \u001b[0;32mreturn\u001b[0m \u001b[0mself\u001b[0m\u001b[0;34m.\u001b[0m\u001b[0mfit\u001b[0m\u001b[0;34m(\u001b[0m\u001b[0mX\u001b[0m\u001b[0;34m,\u001b[0m \u001b[0;34m**\u001b[0m\u001b[0mfit_params\u001b[0m\u001b[0;34m)\u001b[0m\u001b[0;34m.\u001b[0m\u001b[0mtransform\u001b[0m\u001b[0;34m(\u001b[0m\u001b[0mX\u001b[0m\u001b[0;34m)\u001b[0m\u001b[0;34m\u001b[0m\u001b[0m\n\u001b[0m\u001b[1;32m    465\u001b[0m         \u001b[0;32melse\u001b[0m\u001b[0;34m:\u001b[0m\u001b[0;34m\u001b[0m\u001b[0m\n\u001b[1;32m    466\u001b[0m             \u001b[0;31m# fit method of arity 2 (supervised transformation)\u001b[0m\u001b[0;34m\u001b[0m\u001b[0;34m\u001b[0m\u001b[0m\n",
      "\u001b[0;32m/home/ec2-user/anaconda3/envs/amazonei_mxnet_p27/lib/python2.7/site-packages/sklearn/preprocessing/data.pyc\u001b[0m in \u001b[0;36mfit\u001b[0;34m(self, X, y)\u001b[0m\n\u001b[1;32m    332\u001b[0m         \u001b[0;31m# Reset internal state before fitting\u001b[0m\u001b[0;34m\u001b[0m\u001b[0;34m\u001b[0m\u001b[0m\n\u001b[1;32m    333\u001b[0m         \u001b[0mself\u001b[0m\u001b[0;34m.\u001b[0m\u001b[0m_reset\u001b[0m\u001b[0;34m(\u001b[0m\u001b[0;34m)\u001b[0m\u001b[0;34m\u001b[0m\u001b[0m\n\u001b[0;32m--> 334\u001b[0;31m         \u001b[0;32mreturn\u001b[0m \u001b[0mself\u001b[0m\u001b[0;34m.\u001b[0m\u001b[0mpartial_fit\u001b[0m\u001b[0;34m(\u001b[0m\u001b[0mX\u001b[0m\u001b[0;34m,\u001b[0m \u001b[0my\u001b[0m\u001b[0;34m)\u001b[0m\u001b[0;34m\u001b[0m\u001b[0m\n\u001b[0m\u001b[1;32m    335\u001b[0m \u001b[0;34m\u001b[0m\u001b[0m\n\u001b[1;32m    336\u001b[0m     \u001b[0;32mdef\u001b[0m \u001b[0mpartial_fit\u001b[0m\u001b[0;34m(\u001b[0m\u001b[0mself\u001b[0m\u001b[0;34m,\u001b[0m \u001b[0mX\u001b[0m\u001b[0;34m,\u001b[0m \u001b[0my\u001b[0m\u001b[0;34m=\u001b[0m\u001b[0mNone\u001b[0m\u001b[0;34m)\u001b[0m\u001b[0;34m:\u001b[0m\u001b[0;34m\u001b[0m\u001b[0m\n",
      "\u001b[0;32m/home/ec2-user/anaconda3/envs/amazonei_mxnet_p27/lib/python2.7/site-packages/sklearn/preprocessing/data.pyc\u001b[0m in \u001b[0;36mpartial_fit\u001b[0;34m(self, X, y)\u001b[0m\n\u001b[1;32m    360\u001b[0m         X = check_array(X, copy=self.copy, warn_on_dtype=True,\n\u001b[1;32m    361\u001b[0m                         \u001b[0mestimator\u001b[0m\u001b[0;34m=\u001b[0m\u001b[0mself\u001b[0m\u001b[0;34m,\u001b[0m \u001b[0mdtype\u001b[0m\u001b[0;34m=\u001b[0m\u001b[0mFLOAT_DTYPES\u001b[0m\u001b[0;34m,\u001b[0m\u001b[0;34m\u001b[0m\u001b[0m\n\u001b[0;32m--> 362\u001b[0;31m                         force_all_finite=\"allow-nan\")\n\u001b[0m\u001b[1;32m    363\u001b[0m \u001b[0;34m\u001b[0m\u001b[0m\n\u001b[1;32m    364\u001b[0m         \u001b[0mdata_min\u001b[0m \u001b[0;34m=\u001b[0m \u001b[0mnp\u001b[0m\u001b[0;34m.\u001b[0m\u001b[0mnanmin\u001b[0m\u001b[0;34m(\u001b[0m\u001b[0mX\u001b[0m\u001b[0;34m,\u001b[0m \u001b[0maxis\u001b[0m\u001b[0;34m=\u001b[0m\u001b[0;36m0\u001b[0m\u001b[0;34m)\u001b[0m\u001b[0;34m\u001b[0m\u001b[0m\n",
      "\u001b[0;32m/home/ec2-user/anaconda3/envs/amazonei_mxnet_p27/lib/python2.7/site-packages/sklearn/utils/validation.pyc\u001b[0m in \u001b[0;36mcheck_array\u001b[0;34m(array, accept_sparse, accept_large_sparse, dtype, order, copy, force_all_finite, ensure_2d, allow_nd, ensure_min_samples, ensure_min_features, warn_on_dtype, estimator)\u001b[0m\n\u001b[1;32m    525\u001b[0m             \u001b[0;32mtry\u001b[0m\u001b[0;34m:\u001b[0m\u001b[0;34m\u001b[0m\u001b[0m\n\u001b[1;32m    526\u001b[0m                 \u001b[0mwarnings\u001b[0m\u001b[0;34m.\u001b[0m\u001b[0msimplefilter\u001b[0m\u001b[0;34m(\u001b[0m\u001b[0;34m'error'\u001b[0m\u001b[0;34m,\u001b[0m \u001b[0mComplexWarning\u001b[0m\u001b[0;34m)\u001b[0m\u001b[0;34m\u001b[0m\u001b[0m\n\u001b[0;32m--> 527\u001b[0;31m                 \u001b[0marray\u001b[0m \u001b[0;34m=\u001b[0m \u001b[0mnp\u001b[0m\u001b[0;34m.\u001b[0m\u001b[0masarray\u001b[0m\u001b[0;34m(\u001b[0m\u001b[0marray\u001b[0m\u001b[0;34m,\u001b[0m \u001b[0mdtype\u001b[0m\u001b[0;34m=\u001b[0m\u001b[0mdtype\u001b[0m\u001b[0;34m,\u001b[0m \u001b[0morder\u001b[0m\u001b[0;34m=\u001b[0m\u001b[0morder\u001b[0m\u001b[0;34m)\u001b[0m\u001b[0;34m\u001b[0m\u001b[0m\n\u001b[0m\u001b[1;32m    528\u001b[0m             \u001b[0;32mexcept\u001b[0m \u001b[0mComplexWarning\u001b[0m\u001b[0;34m:\u001b[0m\u001b[0;34m\u001b[0m\u001b[0m\n\u001b[1;32m    529\u001b[0m                 raise ValueError(\"Complex data not supported\\n\"\n",
      "\u001b[0;32m/home/ec2-user/anaconda3/envs/amazonei_mxnet_p27/lib/python2.7/site-packages/numpy/core/numeric.pyc\u001b[0m in \u001b[0;36masarray\u001b[0;34m(a, dtype, order)\u001b[0m\n\u001b[1;32m    536\u001b[0m \u001b[0;34m\u001b[0m\u001b[0m\n\u001b[1;32m    537\u001b[0m     \"\"\"\n\u001b[0;32m--> 538\u001b[0;31m     \u001b[0;32mreturn\u001b[0m \u001b[0marray\u001b[0m\u001b[0;34m(\u001b[0m\u001b[0ma\u001b[0m\u001b[0;34m,\u001b[0m \u001b[0mdtype\u001b[0m\u001b[0;34m,\u001b[0m \u001b[0mcopy\u001b[0m\u001b[0;34m=\u001b[0m\u001b[0mFalse\u001b[0m\u001b[0;34m,\u001b[0m \u001b[0morder\u001b[0m\u001b[0;34m=\u001b[0m\u001b[0morder\u001b[0m\u001b[0;34m)\u001b[0m\u001b[0;34m\u001b[0m\u001b[0m\n\u001b[0m\u001b[1;32m    539\u001b[0m \u001b[0;34m\u001b[0m\u001b[0m\n\u001b[1;32m    540\u001b[0m \u001b[0;34m\u001b[0m\u001b[0m\n",
      "\u001b[0;31mValueError\u001b[0m: setting an array element with a sequence."
     ]
    }
   ],
   "source": [
    "# prepare data\n",
    "df_train_sj_x = prepare_data(df_train_sj_x, 5, 3)"
   ]
  },
  {
   "cell_type": "code",
   "execution_count": null,
   "metadata": {},
   "outputs": [],
   "source": []
  },
  {
   "cell_type": "code",
   "execution_count": null,
   "metadata": {},
   "outputs": [],
   "source": []
  },
  {
   "cell_type": "code",
   "execution_count": 82,
   "metadata": {},
   "outputs": [],
   "source": [
    "def series_to_supervised(data, n_in=1, n_out=1, dropnan=True):\n",
    "    n_vars = 1 if type(data) is list else data.shape[1]\n",
    "    df = pd.DataFrame(data)\n",
    "    cols, names = list(), list()\n",
    "    # input sequence (t-n, ... t-1)\n",
    "    for i in range(n_in, 0, -1):\n",
    "        cols.append(df.shift(i))\n",
    "        names += [('var%d(t-%d)' % (j+1, i)) for j in range(n_vars)]\n",
    "    # forecast sequence (t, t+1, ... t+n)\n",
    "    for i in range(0, n_out):\n",
    "        cols.append(df.shift(-i))\n",
    "        if i == 0:\n",
    "            names += [('var%d(t)' % (j+1)) for j in range(n_vars)]\n",
    "        else:\n",
    "            names += [('var%d(t+%d)' % (j+1, i)) for j in range(n_vars)]\n",
    "    # put it all together\n",
    "    agg = pd.concat(cols, axis=1)\n",
    "    agg.columns = names\n",
    "    # drop rows with NaN values\n",
    "    if dropnan:\n",
    "        agg.dropna(inplace=True)\n",
    "    return agg"
   ]
  },
  {
   "cell_type": "code",
   "execution_count": 90,
   "metadata": {},
   "outputs": [],
   "source": [
    "df_train_sj_x  = series_to_supervised(df_train_sj_x, 1, 4)\n",
    "df_val_sj_x = series_to_supervised(df_val_sj_x, 1, 4)"
   ]
  },
  {
   "cell_type": "code",
   "execution_count": null,
   "metadata": {},
   "outputs": [],
   "source": []
  },
  {
   "cell_type": "code",
   "execution_count": null,
   "metadata": {},
   "outputs": [],
   "source": [
    "results = np.reshape(df_train_sj_y, (-1,1))\n",
    "scaler_x = MinMaxScaler()\n",
    "print(scaler_x.fit(newtraindf))\n",
    "xscale = scaler_x.transform(newtraindf)"
   ]
  },
  {
   "cell_type": "code",
   "execution_count": 60,
   "metadata": {},
   "outputs": [],
   "source": [
    "def lstm_preprocessing(dataset, look_back=1):\n",
    "    dataX, dataY = [], []\n",
    "    for i in range(len(dataset)-look_back-1):\n",
    "        a = dataset[i:(i+look_back), 0]\n",
    "        dataX.append(a) \n",
    "        dataY.append(dataset[i + look_back, 0])\n",
    "    return np.array(dataX)"
   ]
  },
  {
   "cell_type": "code",
   "execution_count": 61,
   "metadata": {},
   "outputs": [],
   "source": [
    "df1,df2=create_dataset(df_train_sj_x,3)"
   ]
  },
  {
   "cell_type": "code",
   "execution_count": 68,
   "metadata": {},
   "outputs": [
    {
     "data": {
      "text/plain": [
       "(929, 3)"
      ]
     },
     "execution_count": 68,
     "metadata": {},
     "output_type": "execute_result"
    }
   ],
   "source": [
    "df1.shape"
   ]
  },
  {
   "cell_type": "code",
   "execution_count": null,
   "metadata": {},
   "outputs": [],
   "source": [
    "\n",
    "look_back = 3\n",
    "trainX, trainY = create_dataset(train, look_back)\n",
    "testX, testY = create_dataset(test, look_back)"
   ]
  },
  {
   "cell_type": "code",
   "execution_count": 67,
   "metadata": {},
   "outputs": [
    {
     "data": {
      "text/plain": [
       "(933, 11)"
      ]
     },
     "execution_count": 67,
     "metadata": {},
     "output_type": "execute_result"
    }
   ],
   "source": [
    "df_train_sj_x.shape"
   ]
  },
  {
   "cell_type": "code",
   "execution_count": null,
   "metadata": {},
   "outputs": [],
   "source": []
  },
  {
   "cell_type": "code",
   "execution_count": null,
   "metadata": {},
   "outputs": [],
   "source": []
  },
  {
   "cell_type": "code",
   "execution_count": null,
   "metadata": {},
   "outputs": [],
   "source": []
  },
  {
   "cell_type": "code",
   "execution_count": null,
   "metadata": {},
   "outputs": [],
   "source": []
  },
  {
   "cell_type": "code",
   "execution_count": null,
   "metadata": {},
   "outputs": [],
   "source": []
  },
  {
   "cell_type": "code",
   "execution_count": null,
   "metadata": {},
   "outputs": [],
   "source": []
  },
  {
   "cell_type": "code",
   "execution_count": null,
   "metadata": {},
   "outputs": [],
   "source": []
  },
  {
   "cell_type": "code",
   "execution_count": null,
   "metadata": {},
   "outputs": [],
   "source": []
  },
  {
   "cell_type": "code",
   "execution_count": null,
   "metadata": {},
   "outputs": [],
   "source": []
  },
  {
   "cell_type": "code",
   "execution_count": null,
   "metadata": {},
   "outputs": [],
   "source": [
    "# Create function to add rolling means\n",
    "\n",
    "def rolling_mean_future(df,window):\n",
    "    columns = df.columns\n",
    "    for col in columns:\n",
    "        df[col+'_rmf'] = df[col].rolling(window).mean().shift(-1)\n",
    "    return df.fillna(0)"
   ]
  }
 ],
 "metadata": {
  "colab": {
   "authorship_tag": "ABX9TyOk3vyc/vUaSYvsbEGL9cKS",
   "name": "DengAI: Predicting Disease Spread_GM_v1.ipynb",
   "provenance": [],
   "toc_visible": true
  },
  "kernelspec": {
   "display_name": "conda_amazonei_mxnet_p27",
   "language": "python",
   "name": "conda_amazonei_mxnet_p27"
  },
  "language_info": {
   "codemirror_mode": {
    "name": "ipython",
    "version": 2
   },
   "file_extension": ".py",
   "mimetype": "text/x-python",
   "name": "python",
   "nbconvert_exporter": "python",
   "pygments_lexer": "ipython2",
   "version": "2.7.16"
  }
 },
 "nbformat": 4,
 "nbformat_minor": 4
}
